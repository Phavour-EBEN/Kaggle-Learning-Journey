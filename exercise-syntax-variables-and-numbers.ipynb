{
 "cells": [
  {
   "cell_type": "markdown",
   "id": "bbfa25c5",
   "metadata": {
    "papermill": {
     "duration": 0.010101,
     "end_time": "2024-03-19T15:59:19.655474",
     "exception": false,
     "start_time": "2024-03-19T15:59:19.645373",
     "status": "completed"
    },
    "tags": []
   },
   "source": [
    "**This notebook is an exercise in the [Python](https://www.kaggle.com/learn/python) course.  You can reference the tutorial at [this link](https://www.kaggle.com/colinmorris/hello-python).**\n",
    "\n",
    "---\n"
   ]
  },
  {
   "cell_type": "markdown",
   "id": "40969a49",
   "metadata": {
    "papermill": {
     "duration": 0.009048,
     "end_time": "2024-03-19T15:59:19.674407",
     "exception": false,
     "start_time": "2024-03-19T15:59:19.665359",
     "status": "completed"
    },
    "tags": []
   },
   "source": [
    "Welcome to your first set of Python coding problems.  If this is your first time using Kaggle Notebooks, welcome! \n",
    "\n",
    "Notebooks are composed of blocks (called \"cells\") of text and code. Each of these is editable, though you'll mainly be editing the code cells to answer some questions.\n",
    "\n",
    "To get started, try running the code cell below (by pressing the ► button, or clicking on the cell and pressing ctrl+enter on your keyboard)."
   ]
  },
  {
   "cell_type": "code",
   "execution_count": null,
   "id": "456a2986",
   "metadata": {
    "papermill": {
     "duration": 0.009356,
     "end_time": "2024-03-19T15:59:19.693151",
     "exception": false,
     "start_time": "2024-03-19T15:59:19.683795",
     "status": "completed"
    },
    "tags": []
   },
   "outputs": [],
   "source": []
  },
  {
   "cell_type": "code",
   "execution_count": null,
   "id": "7dbf4348",
   "metadata": {
    "papermill": {
     "duration": 0.009035,
     "end_time": "2024-03-19T15:59:19.711922",
     "exception": false,
     "start_time": "2024-03-19T15:59:19.702887",
     "status": "completed"
    },
    "tags": []
   },
   "outputs": [],
   "source": []
  },
  {
   "cell_type": "code",
   "execution_count": 1,
   "id": "c8974de6",
   "metadata": {
    "execution": {
     "iopub.execute_input": "2024-03-19T15:59:19.735913Z",
     "iopub.status.busy": "2024-03-19T15:59:19.734842Z",
     "iopub.status.idle": "2024-03-19T15:59:19.752917Z",
     "shell.execute_reply": "2024-03-19T15:59:19.751055Z"
    },
    "papermill": {
     "duration": 0.034396,
     "end_time": "2024-03-19T15:59:19.756544",
     "exception": false,
     "start_time": "2024-03-19T15:59:19.722148",
     "status": "completed"
    },
    "tags": []
   },
   "outputs": [
    {
     "name": "stdout",
     "output_type": "stream",
     "text": [
      "You've successfully run some Python code\n",
      "Congratulations!\n"
     ]
    }
   ],
   "source": [
    "print(\"You've successfully run some Python code\")\n",
    "print(\"Congratulations!\")"
   ]
  },
  {
   "cell_type": "markdown",
   "id": "45db6ae6",
   "metadata": {
    "papermill": {
     "duration": 0.009641,
     "end_time": "2024-03-19T15:59:19.776261",
     "exception": false,
     "start_time": "2024-03-19T15:59:19.766620",
     "status": "completed"
    },
    "tags": []
   },
   "source": [
    "Try adding another line of code in the cell above and re-running it. \n",
    "\n",
    "Now let's get a little fancier:  Add a new code cell by clicking on an existing code cell, hitting the escape key, and then hitting the `a` or `b` key.  The `a` key will add a cell above the current cell, and `b` adds a cell below.\n",
    "\n",
    "Great! Now you know how to use Notebooks.\n",
    "\n",
    "Each hands-on exercise starts by setting up our feedback and code checking mechanism. Run the code cell below to do that. Then you'll be ready to move on to question 0."
   ]
  },
  {
   "cell_type": "code",
   "execution_count": 2,
   "id": "ebb5c8df",
   "metadata": {
    "_kg_hide-input": true,
    "_kg_hide-output": true,
    "execution": {
     "iopub.execute_input": "2024-03-19T15:59:19.799355Z",
     "iopub.status.busy": "2024-03-19T15:59:19.798428Z",
     "iopub.status.idle": "2024-03-19T15:59:20.973660Z",
     "shell.execute_reply": "2024-03-19T15:59:20.972414Z"
    },
    "papermill": {
     "duration": 1.190727,
     "end_time": "2024-03-19T15:59:20.976816",
     "exception": false,
     "start_time": "2024-03-19T15:59:19.786089",
     "status": "completed"
    },
    "tags": []
   },
   "outputs": [
    {
     "name": "stdout",
     "output_type": "stream",
     "text": [
      "Setup complete! You're ready to start question 0.\n"
     ]
    }
   ],
   "source": [
    "from learntools.core import binder; binder.bind(globals())\n",
    "from learntools.python.ex1 import *\n",
    "print(\"Setup complete! You're ready to start question 0.\")"
   ]
  },
  {
   "cell_type": "markdown",
   "id": "c5ec013f",
   "metadata": {
    "papermill": {
     "duration": 0.009269,
     "end_time": "2024-03-19T15:59:20.995733",
     "exception": false,
     "start_time": "2024-03-19T15:59:20.986464",
     "status": "completed"
    },
    "tags": []
   },
   "source": [
    "# 0.\n",
    "\n",
    "*This is a silly question intended as an introduction to the format we use for hands-on exercises throughout all Kaggle courses.*\n",
    "\n",
    "**What is your favorite color? **\n",
    "\n",
    "To complete this question, create a variable called `color` in the cell below with an appropriate value. The function call `q0.check()` (which we've already provided in the cell below) will check your answer."
   ]
  },
  {
   "cell_type": "code",
   "execution_count": 3,
   "id": "59905a24",
   "metadata": {
    "execution": {
     "iopub.execute_input": "2024-03-19T15:59:21.018260Z",
     "iopub.status.busy": "2024-03-19T15:59:21.017725Z",
     "iopub.status.idle": "2024-03-19T15:59:21.029561Z",
     "shell.execute_reply": "2024-03-19T15:59:21.028505Z"
    },
    "papermill": {
     "duration": 0.025249,
     "end_time": "2024-03-19T15:59:21.032043",
     "exception": false,
     "start_time": "2024-03-19T15:59:21.006794",
     "status": "completed"
    },
    "tags": []
   },
   "outputs": [
    {
     "data": {
      "application/javascript": [
       "parent.postMessage({\"jupyterEvent\": \"custom.exercise_interaction\", \"data\": {\"outcomeType\": 1, \"valueTowardsCompletion\": 0.25, \"interactionType\": 1, \"questionType\": 2, \"questionId\": \"0_ExerciseFormatTutorial\", \"learnToolsVersion\": \"0.3.4\", \"failureMessage\": \"\", \"exceptionClass\": \"\", \"trace\": \"\"}}, \"*\")"
      ],
      "text/plain": [
       "<IPython.core.display.Javascript object>"
      ]
     },
     "metadata": {},
     "output_type": "display_data"
    },
    {
     "data": {
      "text/markdown": [
       "<span style=\"color:#33cc33\">Correct:</span> What?! You got it right without needing a hint or anything? Drats. Well hey, you should still continue to the next step to get some practice asking for a hint and checking solutions. (Even though you obviously don't need any help here.)"
      ],
      "text/plain": [
       "Correct: What?! You got it right without needing a hint or anything? Drats. Well hey, you should still continue to the next step to get some practice asking for a hint and checking solutions. (Even though you obviously don't need any help here.)"
      ]
     },
     "metadata": {},
     "output_type": "display_data"
    }
   ],
   "source": [
    "# create a variable called color with an appropriate value on the line below\n",
    "# (Remember, strings in Python must be enclosed in 'single' or \"double\" quotes)\n",
    "____\n",
    "color=\"Blue\"\n",
    "# Check your answer\n",
    "\n",
    "\n",
    "q0.check()"
   ]
  },
  {
   "cell_type": "markdown",
   "id": "f57b8535",
   "metadata": {
    "papermill": {
     "duration": 0.009531,
     "end_time": "2024-03-19T15:59:21.051875",
     "exception": false,
     "start_time": "2024-03-19T15:59:21.042344",
     "status": "completed"
    },
    "tags": []
   },
   "source": [
    "Didn't get the right answer? How do you not even know your own favorite color?!\n",
    "\n",
    "Delete the `#` in the line below to make one of the lines run. You can choose between getting a hint or the full answer by choosing which line to remove the `#` from. \n",
    "\n",
    "Removing the `#` is called uncommenting, because it changes that line from a \"comment\" which Python doesn't run to code, which Python does run."
   ]
  },
  {
   "cell_type": "code",
   "execution_count": 4,
   "id": "c1028855",
   "metadata": {
    "execution": {
     "iopub.execute_input": "2024-03-19T15:59:21.073000Z",
     "iopub.status.busy": "2024-03-19T15:59:21.072558Z",
     "iopub.status.idle": "2024-03-19T15:59:21.077224Z",
     "shell.execute_reply": "2024-03-19T15:59:21.076076Z"
    },
    "papermill": {
     "duration": 0.018211,
     "end_time": "2024-03-19T15:59:21.079801",
     "exception": false,
     "start_time": "2024-03-19T15:59:21.061590",
     "status": "completed"
    },
    "tags": []
   },
   "outputs": [],
   "source": [
    "# q0.hint()\n",
    "#q0.solution()"
   ]
  },
  {
   "cell_type": "markdown",
   "id": "01c0de6c",
   "metadata": {
    "papermill": {
     "duration": 0.009508,
     "end_time": "2024-03-19T15:59:21.098914",
     "exception": false,
     "start_time": "2024-03-19T15:59:21.089406",
     "status": "completed"
    },
    "tags": []
   },
   "source": [
    "The upcoming questions work the same way. The only thing that will change are the question numbers. For the next question, you'll call `q1.check()`, `q1.hint()`, `q1.solution()`, for question 2, you'll call `q2.check()`, and so on."
   ]
  },
  {
   "cell_type": "markdown",
   "id": "e8806e1b",
   "metadata": {
    "papermill": {
     "duration": 0.00938,
     "end_time": "2024-03-19T15:59:21.117833",
     "exception": false,
     "start_time": "2024-03-19T15:59:21.108453",
     "status": "completed"
    },
    "tags": []
   },
   "source": [
    "<hr/>\n",
    "\n",
    "# 1.\n",
    "\n",
    "Complete the code below. In case it's helpful, here is the table of available arithmetic operations:\n",
    "\n",
    "\n",
    "\n",
    "| Operator     | Name           | Description                                            |\n",
    "|--------------|----------------|--------------------------------------------------------|\n",
    "| ``a + b``    | Addition       | Sum of ``a`` and ``b``                                 |\n",
    "| ``a - b``    | Subtraction    | Difference of ``a`` and ``b``                          |\n",
    "| ``a * b``    | Multiplication | Product of ``a`` and ``b``                             |\n",
    "| ``a / b``    | True division  | Quotient of ``a`` and ``b``                            |\n",
    "| ``a // b``   | Floor division | Quotient of ``a`` and ``b``, removing fractional parts |\n",
    "| ``a % b``    | Modulus        | Integer remainder after division of ``a`` by ``b``     |\n",
    "| ``a ** b``   | Exponentiation | ``a`` raised to the power of ``b``                     |\n",
    "| ``-a``       | Negation       | The negative of ``a``                                  |\n",
    "\n",
    "<span style=\"display:none\"></span>\n"
   ]
  },
  {
   "cell_type": "code",
   "execution_count": 5,
   "id": "bcc7b979",
   "metadata": {
    "execution": {
     "iopub.execute_input": "2024-03-19T15:59:21.140842Z",
     "iopub.status.busy": "2024-03-19T15:59:21.139093Z",
     "iopub.status.idle": "2024-03-19T15:59:21.151796Z",
     "shell.execute_reply": "2024-03-19T15:59:21.150599Z"
    },
    "papermill": {
     "duration": 0.026889,
     "end_time": "2024-03-19T15:59:21.154320",
     "exception": false,
     "start_time": "2024-03-19T15:59:21.127431",
     "status": "completed"
    },
    "tags": []
   },
   "outputs": [
    {
     "data": {
      "application/javascript": [
       "parent.postMessage({\"jupyterEvent\": \"custom.exercise_interaction\", \"data\": {\"outcomeType\": 1, \"valueTowardsCompletion\": 0.25, \"interactionType\": 1, \"questionType\": 1, \"questionId\": \"1_CircleArea\", \"learnToolsVersion\": \"0.3.4\", \"failureMessage\": \"\", \"exceptionClass\": \"\", \"trace\": \"\"}}, \"*\")"
      ],
      "text/plain": [
       "<IPython.core.display.Javascript object>"
      ]
     },
     "metadata": {},
     "output_type": "display_data"
    },
    {
     "data": {
      "text/markdown": [
       "<span style=\"color:#33cc33\">Correct</span>"
      ],
      "text/plain": [
       "Correct"
      ]
     },
     "metadata": {},
     "output_type": "display_data"
    }
   ],
   "source": [
    "pi = 3.14159 # approximate\n",
    "diameter = 3\n",
    "\n",
    "# Create a variable called 'radius' equal to half the diameter\n",
    "____\n",
    "radius= (diameter/2)\n",
    "# Create a variable called 'area', using the formula for the area of a circle: pi times the radius squared\n",
    "____\n",
    "area = pi*(radius**2)\n",
    "# Check your answer\n",
    "q1.check()"
   ]
  },
  {
   "cell_type": "code",
   "execution_count": 6,
   "id": "54aaef54",
   "metadata": {
    "execution": {
     "iopub.execute_input": "2024-03-19T15:59:21.177706Z",
     "iopub.status.busy": "2024-03-19T15:59:21.176555Z",
     "iopub.status.idle": "2024-03-19T15:59:21.181894Z",
     "shell.execute_reply": "2024-03-19T15:59:21.180937Z"
    },
    "papermill": {
     "duration": 0.019977,
     "end_time": "2024-03-19T15:59:21.184502",
     "exception": false,
     "start_time": "2024-03-19T15:59:21.164525",
     "status": "completed"
    },
    "tags": []
   },
   "outputs": [],
   "source": [
    "# Uncomment and run the lines below if you need help.\n",
    "#q1.hint()\n",
    "#q1.solution()"
   ]
  },
  {
   "cell_type": "markdown",
   "id": "df210450",
   "metadata": {
    "papermill": {
     "duration": 0.011007,
     "end_time": "2024-03-19T15:59:21.206155",
     "exception": false,
     "start_time": "2024-03-19T15:59:21.195148",
     "status": "completed"
    },
    "tags": []
   },
   "source": [
    "<hr/>\n",
    "\n",
    "# 2.\n",
    "\n",
    "Add code to the following cell to swap variables `a` and `b` (so that `a` refers to the object previously referred to by `b` and vice versa)."
   ]
  },
  {
   "cell_type": "code",
   "execution_count": 7,
   "id": "4503c9e8",
   "metadata": {
    "execution": {
     "iopub.execute_input": "2024-03-19T15:59:21.229029Z",
     "iopub.status.busy": "2024-03-19T15:59:21.228181Z",
     "iopub.status.idle": "2024-03-19T15:59:21.240167Z",
     "shell.execute_reply": "2024-03-19T15:59:21.238910Z"
    },
    "papermill": {
     "duration": 0.026466,
     "end_time": "2024-03-19T15:59:21.242671",
     "exception": false,
     "start_time": "2024-03-19T15:59:21.216205",
     "status": "completed"
    },
    "tags": []
   },
   "outputs": [
    {
     "data": {
      "application/javascript": [
       "parent.postMessage({\"jupyterEvent\": \"custom.exercise_interaction\", \"data\": {\"outcomeType\": 1, \"valueTowardsCompletion\": 0.25, \"interactionType\": 1, \"questionType\": 2, \"questionId\": \"2_VariableSwap\", \"learnToolsVersion\": \"0.3.4\", \"failureMessage\": \"\", \"exceptionClass\": \"\", \"trace\": \"\"}}, \"*\")"
      ],
      "text/plain": [
       "<IPython.core.display.Javascript object>"
      ]
     },
     "metadata": {},
     "output_type": "display_data"
    },
    {
     "data": {
      "text/markdown": [
       "<span style=\"color:#33cc33\">Correct:</span> \n",
       "\n",
       "The most straightforward solution is to use a third variable to temporarily store one of the old values. e.g.:\n",
       "\n",
       "    tmp = a\n",
       "    a = b\n",
       "    b = tmp\n",
       "\n",
       "If you've read lots of Python code, you might have seen the following trick to swap two variables in one line:\n",
       "\n",
       "    a, b = b, a\n",
       "\n",
       "We'll demystify this bit of Python magic later when we talk about *tuples*."
      ],
      "text/plain": [
       "Correct: \n",
       "\n",
       "The most straightforward solution is to use a third variable to temporarily store one of the old values. e.g.:\n",
       "\n",
       "    tmp = a\n",
       "    a = b\n",
       "    b = tmp\n",
       "\n",
       "If you've read lots of Python code, you might have seen the following trick to swap two variables in one line:\n",
       "\n",
       "    a, b = b, a\n",
       "\n",
       "We'll demystify this bit of Python magic later when we talk about *tuples*."
      ]
     },
     "metadata": {},
     "output_type": "display_data"
    }
   ],
   "source": [
    "########### Setup code - don't touch this part ######################\n",
    "# If you're curious, these are examples of lists. We'll talk about \n",
    "# them in depth a few lessons from now. For now, just know that they're\n",
    "# yet another type of Python object, like int or float.\n",
    "a = [1, 2, 3]\n",
    "b = [3, 2, 1]\n",
    "q2.store_original_ids()\n",
    "######################################################################\n",
    "\n",
    "# Your code goes here. Swap the values to which a and b refer.\n",
    "# If you get stuck, you can always uncomment one or both of the lines in\n",
    "# the next cell for a hint, or to peek at the solution.\n",
    "\n",
    "######################################################################\n",
    "a,b=b,a\n",
    "\n",
    "# Check your answer\n",
    "q2.check()"
   ]
  },
  {
   "cell_type": "code",
   "execution_count": 8,
   "id": "ad10660e",
   "metadata": {
    "execution": {
     "iopub.execute_input": "2024-03-19T15:59:21.265896Z",
     "iopub.status.busy": "2024-03-19T15:59:21.265121Z",
     "iopub.status.idle": "2024-03-19T15:59:21.270045Z",
     "shell.execute_reply": "2024-03-19T15:59:21.269118Z"
    },
    "papermill": {
     "duration": 0.019365,
     "end_time": "2024-03-19T15:59:21.272563",
     "exception": false,
     "start_time": "2024-03-19T15:59:21.253198",
     "status": "completed"
    },
    "tags": []
   },
   "outputs": [],
   "source": [
    "#q2.hint()"
   ]
  },
  {
   "cell_type": "code",
   "execution_count": 9,
   "id": "3f41e538",
   "metadata": {
    "execution": {
     "iopub.execute_input": "2024-03-19T15:59:21.296081Z",
     "iopub.status.busy": "2024-03-19T15:59:21.295651Z",
     "iopub.status.idle": "2024-03-19T15:59:21.301239Z",
     "shell.execute_reply": "2024-03-19T15:59:21.299439Z"
    },
    "papermill": {
     "duration": 0.020593,
     "end_time": "2024-03-19T15:59:21.304315",
     "exception": false,
     "start_time": "2024-03-19T15:59:21.283722",
     "status": "completed"
    },
    "tags": []
   },
   "outputs": [],
   "source": [
    "#q2.solution()"
   ]
  },
  {
   "cell_type": "markdown",
   "id": "7a69fad6",
   "metadata": {
    "papermill": {
     "duration": 0.010559,
     "end_time": "2024-03-19T15:59:21.325924",
     "exception": false,
     "start_time": "2024-03-19T15:59:21.315365",
     "status": "completed"
    },
    "tags": []
   },
   "source": [
    "<hr/>\n",
    "\n",
    "# 3a.\n",
    "\n",
    "Add parentheses to the following expression so that it evaluates to 1."
   ]
  },
  {
   "cell_type": "code",
   "execution_count": 10,
   "id": "4fb17d38",
   "metadata": {
    "execution": {
     "iopub.execute_input": "2024-03-19T15:59:21.350889Z",
     "iopub.status.busy": "2024-03-19T15:59:21.349775Z",
     "iopub.status.idle": "2024-03-19T15:59:21.358025Z",
     "shell.execute_reply": "2024-03-19T15:59:21.357047Z"
    },
    "papermill": {
     "duration": 0.025771,
     "end_time": "2024-03-19T15:59:21.362477",
     "exception": false,
     "start_time": "2024-03-19T15:59:21.336706",
     "status": "completed"
    },
    "tags": []
   },
   "outputs": [
    {
     "data": {
      "text/plain": [
       "1"
      ]
     },
     "execution_count": 10,
     "metadata": {},
     "output_type": "execute_result"
    }
   ],
   "source": [
    "(5 - 3) // 2"
   ]
  },
  {
   "cell_type": "code",
   "execution_count": 11,
   "id": "58a2a652",
   "metadata": {
    "execution": {
     "iopub.execute_input": "2024-03-19T15:59:21.393800Z",
     "iopub.status.busy": "2024-03-19T15:59:21.392831Z",
     "iopub.status.idle": "2024-03-19T15:59:21.398039Z",
     "shell.execute_reply": "2024-03-19T15:59:21.396944Z"
    },
    "papermill": {
     "duration": 0.021674,
     "end_time": "2024-03-19T15:59:21.400775",
     "exception": false,
     "start_time": "2024-03-19T15:59:21.379101",
     "status": "completed"
    },
    "tags": []
   },
   "outputs": [],
   "source": [
    "#q3.a.hint()"
   ]
  },
  {
   "cell_type": "code",
   "execution_count": 12,
   "id": "43922e90",
   "metadata": {
    "execution": {
     "iopub.execute_input": "2024-03-19T15:59:21.427115Z",
     "iopub.status.busy": "2024-03-19T15:59:21.426165Z",
     "iopub.status.idle": "2024-03-19T15:59:21.436097Z",
     "shell.execute_reply": "2024-03-19T15:59:21.435061Z"
    },
    "papermill": {
     "duration": 0.026242,
     "end_time": "2024-03-19T15:59:21.438354",
     "exception": false,
     "start_time": "2024-03-19T15:59:21.412112",
     "status": "completed"
    },
    "tags": []
   },
   "outputs": [
    {
     "data": {
      "application/javascript": [
       "parent.postMessage({\"jupyterEvent\": \"custom.exercise_interaction\", \"data\": {\"interactionType\": 3, \"questionType\": 4, \"questionId\": \"3.1_ArithmeticParensEasy\", \"learnToolsVersion\": \"0.3.4\", \"valueTowardsCompletion\": 0.0, \"failureMessage\": \"\", \"exceptionClass\": \"\", \"trace\": \"\", \"outcomeType\": 4}}, \"*\")"
      ],
      "text/plain": [
       "<IPython.core.display.Javascript object>"
      ]
     },
     "metadata": {},
     "output_type": "display_data"
    },
    {
     "data": {
      "text/markdown": [
       "<span style=\"color:#33cc99\">Solution:</span> \n",
       "```python\n",
       "(5 - 3) // 2\n",
       "```"
      ],
      "text/plain": [
       "Solution: \n",
       "```python\n",
       "(5 - 3) // 2\n",
       "```"
      ]
     },
     "metadata": {},
     "output_type": "display_data"
    }
   ],
   "source": [
    "# Check your answer (Run this code cell to receive credit!)\n",
    "q3.a.solution()"
   ]
  },
  {
   "cell_type": "markdown",
   "id": "070d9e31",
   "metadata": {
    "papermill": {
     "duration": 0.011001,
     "end_time": "2024-03-19T15:59:21.460721",
     "exception": false,
     "start_time": "2024-03-19T15:59:21.449720",
     "status": "completed"
    },
    "tags": []
   },
   "source": [
    "# 3b.  <span title=\"A bit spicy\" style=\"color: darkgreen \">🌶️</span>\n",
    "\n",
    "<small>Questions, like this one, marked a spicy pepper are a bit harder.</small>\n",
    "\n",
    "Add parentheses to the following expression so that it evaluates to 0."
   ]
  },
  {
   "cell_type": "code",
   "execution_count": 13,
   "id": "d89b5ad7",
   "metadata": {
    "execution": {
     "iopub.execute_input": "2024-03-19T15:59:21.486575Z",
     "iopub.status.busy": "2024-03-19T15:59:21.485621Z",
     "iopub.status.idle": "2024-03-19T15:59:21.493304Z",
     "shell.execute_reply": "2024-03-19T15:59:21.492229Z"
    },
    "papermill": {
     "duration": 0.024433,
     "end_time": "2024-03-19T15:59:21.496790",
     "exception": false,
     "start_time": "2024-03-19T15:59:21.472357",
     "status": "completed"
    },
    "tags": []
   },
   "outputs": [
    {
     "data": {
      "text/plain": [
       "0"
      ]
     },
     "execution_count": 13,
     "metadata": {},
     "output_type": "execute_result"
    }
   ],
   "source": [
    "8 - (3 * 2) - (1 + 1)"
   ]
  },
  {
   "cell_type": "code",
   "execution_count": 14,
   "id": "5f94ec7f",
   "metadata": {
    "execution": {
     "iopub.execute_input": "2024-03-19T15:59:21.523623Z",
     "iopub.status.busy": "2024-03-19T15:59:21.523008Z",
     "iopub.status.idle": "2024-03-19T15:59:21.526759Z",
     "shell.execute_reply": "2024-03-19T15:59:21.525955Z"
    },
    "papermill": {
     "duration": 0.019753,
     "end_time": "2024-03-19T15:59:21.529151",
     "exception": false,
     "start_time": "2024-03-19T15:59:21.509398",
     "status": "completed"
    },
    "tags": []
   },
   "outputs": [],
   "source": [
    "#q3.b.hint()"
   ]
  },
  {
   "cell_type": "code",
   "execution_count": 15,
   "id": "1e039b60",
   "metadata": {
    "execution": {
     "iopub.execute_input": "2024-03-19T15:59:21.555848Z",
     "iopub.status.busy": "2024-03-19T15:59:21.555100Z",
     "iopub.status.idle": "2024-03-19T15:59:21.563455Z",
     "shell.execute_reply": "2024-03-19T15:59:21.562235Z"
    },
    "papermill": {
     "duration": 0.02484,
     "end_time": "2024-03-19T15:59:21.566387",
     "exception": false,
     "start_time": "2024-03-19T15:59:21.541547",
     "status": "completed"
    },
    "tags": []
   },
   "outputs": [
    {
     "data": {
      "application/javascript": [
       "parent.postMessage({\"jupyterEvent\": \"custom.exercise_interaction\", \"data\": {\"interactionType\": 3, \"questionType\": 4, \"questionId\": \"3.2_ArithmeticParensHard\", \"learnToolsVersion\": \"0.3.4\", \"valueTowardsCompletion\": 0.0, \"failureMessage\": \"\", \"exceptionClass\": \"\", \"trace\": \"\", \"outcomeType\": 4}}, \"*\")"
      ],
      "text/plain": [
       "<IPython.core.display.Javascript object>"
      ]
     },
     "metadata": {},
     "output_type": "display_data"
    },
    {
     "data": {
      "text/markdown": [
       "<span style=\"color:#33cc99\">Solution:</span> `(8 - 3) * (2 - (1 + 1))` is one solution. There may be others."
      ],
      "text/plain": [
       "Solution: `(8 - 3) * (2 - (1 + 1))` is one solution. There may be others."
      ]
     },
     "metadata": {},
     "output_type": "display_data"
    }
   ],
   "source": [
    "# Check your answer (Run this code cell to receive credit!)\n",
    "q3.b.solution()"
   ]
  },
  {
   "cell_type": "markdown",
   "id": "950fb163",
   "metadata": {
    "papermill": {
     "duration": 0.01193,
     "end_time": "2024-03-19T15:59:21.590786",
     "exception": false,
     "start_time": "2024-03-19T15:59:21.578856",
     "status": "completed"
    },
    "tags": []
   },
   "source": [
    "<hr/>\n",
    "\n",
    "# 4. \n",
    "Alice, Bob and Carol have agreed to pool their Halloween candy and split it evenly among themselves.\n",
    "For the sake of their friendship, any candies left over will be smashed. For example, if they collectively\n",
    "bring home 91 candies, they'll take 30 each and smash 1.\n",
    "\n",
    "Write an arithmetic expression below to calculate how many candies they must smash for a given haul."
   ]
  },
  {
   "cell_type": "code",
   "execution_count": 16,
   "id": "ce725e63",
   "metadata": {
    "execution": {
     "iopub.execute_input": "2024-03-19T15:59:21.617182Z",
     "iopub.status.busy": "2024-03-19T15:59:21.616700Z",
     "iopub.status.idle": "2024-03-19T15:59:21.627791Z",
     "shell.execute_reply": "2024-03-19T15:59:21.626952Z"
    },
    "papermill": {
     "duration": 0.027052,
     "end_time": "2024-03-19T15:59:21.630100",
     "exception": false,
     "start_time": "2024-03-19T15:59:21.603048",
     "status": "completed"
    },
    "tags": []
   },
   "outputs": [
    {
     "data": {
      "application/javascript": [
       "parent.postMessage({\"jupyterEvent\": \"custom.exercise_interaction\", \"data\": {\"outcomeType\": 1, \"valueTowardsCompletion\": 0.25, \"interactionType\": 1, \"questionType\": 1, \"questionId\": \"4_CandySplitting\", \"learnToolsVersion\": \"0.3.4\", \"failureMessage\": \"\", \"exceptionClass\": \"\", \"trace\": \"\"}}, \"*\")"
      ],
      "text/plain": [
       "<IPython.core.display.Javascript object>"
      ]
     },
     "metadata": {},
     "output_type": "display_data"
    },
    {
     "data": {
      "text/markdown": [
       "<span style=\"color:#33cc33\">Correct</span>"
      ],
      "text/plain": [
       "Correct"
      ]
     },
     "metadata": {},
     "output_type": "display_data"
    }
   ],
   "source": [
    "# Variables representing the number of candies collected by alice, bob, and carol\n",
    "alice_candies = 121\n",
    "bob_candies = 77\n",
    "carol_candies = 109\n",
    "\n",
    "# Your code goes here! Replace the right-hand side of this assignment with an expression\n",
    "# involving alice_candies, bob_candies, and carol_candies\n",
    "to_smash =(alice_candies+bob_candies+carol_candies)%3\n",
    "\n",
    "# Check your answer\n",
    "q4.check()"
   ]
  },
  {
   "cell_type": "code",
   "execution_count": 17,
   "id": "06c5e435",
   "metadata": {
    "execution": {
     "iopub.execute_input": "2024-03-19T15:59:21.657596Z",
     "iopub.status.busy": "2024-03-19T15:59:21.656651Z",
     "iopub.status.idle": "2024-03-19T15:59:21.664159Z",
     "shell.execute_reply": "2024-03-19T15:59:21.663321Z"
    },
    "papermill": {
     "duration": 0.023823,
     "end_time": "2024-03-19T15:59:21.666335",
     "exception": false,
     "start_time": "2024-03-19T15:59:21.642512",
     "status": "completed"
    },
    "tags": []
   },
   "outputs": [
    {
     "data": {
      "application/javascript": [
       "parent.postMessage({\"jupyterEvent\": \"custom.exercise_interaction\", \"data\": {\"interactionType\": 2, \"questionType\": 1, \"questionId\": \"4_CandySplitting\", \"learnToolsVersion\": \"0.3.4\", \"valueTowardsCompletion\": 0.0, \"failureMessage\": \"\", \"exceptionClass\": \"\", \"trace\": \"\", \"outcomeType\": 4}}, \"*\")"
      ],
      "text/plain": [
       "<IPython.core.display.Javascript object>"
      ]
     },
     "metadata": {},
     "output_type": "display_data"
    },
    {
     "data": {
      "text/markdown": [
       "<span style=\"color:#3366cc\">Hint 1:</span> You'll probably want to use the modulo operator, `%`.\n",
       "(For another hint, call `.hint(2)`)"
      ],
      "text/plain": [
       "Hint 1: You'll probably want to use the modulo operator, `%`.\n",
       "(For another hint, call `.hint(2)`)"
      ]
     },
     "metadata": {},
     "output_type": "display_data"
    }
   ],
   "source": [
    "q4.hint()\n",
    "#q4.solution()"
   ]
  },
  {
   "cell_type": "markdown",
   "id": "1051489e",
   "metadata": {
    "papermill": {
     "duration": 0.012342,
     "end_time": "2024-03-19T15:59:21.691175",
     "exception": false,
     "start_time": "2024-03-19T15:59:21.678833",
     "status": "completed"
    },
    "tags": []
   },
   "source": [
    "# Keep Going\n",
    "\n",
    "Next up, you'll **[learn to write new functions and understand functions others write](https://www.kaggle.com/colinmorris/functions-and-getting-help)**. This will make you at least 10 times more productive as a Python programmer. "
   ]
  },
  {
   "cell_type": "markdown",
   "id": "429acabf",
   "metadata": {
    "papermill": {
     "duration": 0.012441,
     "end_time": "2024-03-19T15:59:21.716317",
     "exception": false,
     "start_time": "2024-03-19T15:59:21.703876",
     "status": "completed"
    },
    "tags": []
   },
   "source": [
    "---\n",
    "\n",
    "\n",
    "\n",
    "\n",
    "*Have questions or comments? Visit the [course discussion forum](https://www.kaggle.com/learn/python/discussion) to chat with other learners.*"
   ]
  }
 ],
 "metadata": {
  "kaggle": {
   "accelerator": "none",
   "dataSources": [],
   "isGpuEnabled": false,
   "isInternetEnabled": false,
   "language": "python",
   "sourceType": "notebook"
  },
  "kernelspec": {
   "display_name": "Python 3",
   "language": "python",
   "name": "python3"
  },
  "language_info": {
   "codemirror_mode": {
    "name": "ipython",
    "version": 3
   },
   "file_extension": ".py",
   "mimetype": "text/x-python",
   "name": "python",
   "nbconvert_exporter": "python",
   "pygments_lexer": "ipython3",
   "version": "3.10.13"
  },
  "learntools_metadata": {
   "lesson_index": 0,
   "type": "exercise"
  },
  "papermill": {
   "default_parameters": {},
   "duration": 6.472842,
   "end_time": "2024-03-19T15:59:22.251695",
   "environment_variables": {},
   "exception": null,
   "input_path": "__notebook__.ipynb",
   "output_path": "__notebook__.ipynb",
   "parameters": {},
   "start_time": "2024-03-19T15:59:15.778853",
   "version": "2.5.0"
  }
 },
 "nbformat": 4,
 "nbformat_minor": 5
}
