{
 "cells": [
  {
   "cell_type": "markdown",
   "id": "64713216",
   "metadata": {
    "papermill": {
     "duration": 0.012951,
     "end_time": "2024-03-21T04:24:43.121090",
     "exception": false,
     "start_time": "2024-03-21T04:24:43.108139",
     "status": "completed"
    },
    "tags": []
   },
   "source": [
    "**This notebook is an exercise in the [Python](https://www.kaggle.com/learn/python) course.  You can reference the tutorial at [this link](https://www.kaggle.com/colinmorris/booleans-and-conditionals).**\n",
    "\n",
    "---\n"
   ]
  },
  {
   "cell_type": "markdown",
   "id": "3cecce5a",
   "metadata": {
    "papermill": {
     "duration": 0.015366,
     "end_time": "2024-03-21T04:24:43.149295",
     "exception": false,
     "start_time": "2024-03-21T04:24:43.133929",
     "status": "completed"
    },
    "tags": []
   },
   "source": [
    "In this exercise, you'll put to work what you have learned about booleans and conditionals.\n",
    "\n",
    "To get started, **run the setup code below** before writing your own code (and if you leave this notebook and come back later, don't forget to run the setup code again)."
   ]
  },
  {
   "cell_type": "code",
   "execution_count": 1,
   "id": "2686c024",
   "metadata": {
    "execution": {
     "iopub.execute_input": "2024-03-21T04:24:43.176003Z",
     "iopub.status.busy": "2024-03-21T04:24:43.175248Z",
     "iopub.status.idle": "2024-03-21T04:24:44.167199Z",
     "shell.execute_reply": "2024-03-21T04:24:44.165878Z"
    },
    "papermill": {
     "duration": 1.008441,
     "end_time": "2024-03-21T04:24:44.170126",
     "exception": false,
     "start_time": "2024-03-21T04:24:43.161685",
     "status": "completed"
    },
    "tags": []
   },
   "outputs": [
    {
     "name": "stdout",
     "output_type": "stream",
     "text": [
      "Setup complete.\n"
     ]
    }
   ],
   "source": [
    "from learntools.core import binder; binder.bind(globals())\n",
    "from learntools.python.ex3 import *\n",
    "print('Setup complete.')"
   ]
  },
  {
   "cell_type": "markdown",
   "id": "8fd53640",
   "metadata": {
    "papermill": {
     "duration": 0.012076,
     "end_time": "2024-03-21T04:24:44.194986",
     "exception": false,
     "start_time": "2024-03-21T04:24:44.182910",
     "status": "completed"
    },
    "tags": []
   },
   "source": [
    "# 1.\n",
    "\n",
    "Many programming languages have [`sign`](https://en.wikipedia.org/wiki/Sign_function) available as a built-in function. Python doesn't, but we can define our own!\n",
    "\n",
    "In the cell below, define a function called `sign` which takes a numerical argument and returns -1 if it's negative, 1 if it's positive, and 0 if it's 0."
   ]
  },
  {
   "cell_type": "code",
   "execution_count": 2,
   "id": "37329123",
   "metadata": {
    "execution": {
     "iopub.execute_input": "2024-03-21T04:24:44.223758Z",
     "iopub.status.busy": "2024-03-21T04:24:44.221167Z",
     "iopub.status.idle": "2024-03-21T04:24:44.236457Z",
     "shell.execute_reply": "2024-03-21T04:24:44.235359Z"
    },
    "papermill": {
     "duration": 0.031626,
     "end_time": "2024-03-21T04:24:44.238920",
     "exception": false,
     "start_time": "2024-03-21T04:24:44.207294",
     "status": "completed"
    },
    "tags": []
   },
   "outputs": [
    {
     "name": "stdout",
     "output_type": "stream",
     "text": [
      "-1\n"
     ]
    },
    {
     "data": {
      "application/javascript": [
       "parent.postMessage({\"jupyterEvent\": \"custom.exercise_interaction\", \"data\": {\"outcomeType\": 1, \"valueTowardsCompletion\": 0.2, \"interactionType\": 1, \"questionType\": 2, \"questionId\": \"1_SignFunctionProblem\", \"learnToolsVersion\": \"0.3.4\", \"failureMessage\": \"\", \"exceptionClass\": \"\", \"trace\": \"\"}}, \"*\")"
      ],
      "text/plain": [
       "<IPython.core.display.Javascript object>"
      ]
     },
     "metadata": {},
     "output_type": "display_data"
    },
    {
     "data": {
      "text/markdown": [
       "<span style=\"color:#33cc33\">Correct</span>"
      ],
      "text/plain": [
       "Correct"
      ]
     },
     "metadata": {},
     "output_type": "display_data"
    }
   ],
   "source": [
    "# Your code goes here. Define a function called 'sign'\n",
    "def sign(num):\n",
    "    if num<0:\n",
    "        return -1\n",
    "    elif num==0:\n",
    "        return 0 \n",
    "    else:\n",
    "        return 1\n",
    "print(sign(-1))\n",
    "# Check your answer\n",
    "q1.check()"
   ]
  },
  {
   "cell_type": "code",
   "execution_count": 3,
   "id": "6ab34f5b",
   "metadata": {
    "execution": {
     "iopub.execute_input": "2024-03-21T04:24:44.266551Z",
     "iopub.status.busy": "2024-03-21T04:24:44.266178Z",
     "iopub.status.idle": "2024-03-21T04:24:44.270896Z",
     "shell.execute_reply": "2024-03-21T04:24:44.269698Z"
    },
    "papermill": {
     "duration": 0.021738,
     "end_time": "2024-03-21T04:24:44.273421",
     "exception": false,
     "start_time": "2024-03-21T04:24:44.251683",
     "status": "completed"
    },
    "tags": []
   },
   "outputs": [],
   "source": [
    "#q1.solution()"
   ]
  },
  {
   "cell_type": "markdown",
   "id": "17781a36",
   "metadata": {
    "papermill": {
     "duration": 0.012006,
     "end_time": "2024-03-21T04:24:44.299001",
     "exception": false,
     "start_time": "2024-03-21T04:24:44.286995",
     "status": "completed"
    },
    "tags": []
   },
   "source": [
    "# 2.\n",
    "\n",
    "We've decided to add \"logging\" to our `to_smash` function from the previous exercise."
   ]
  },
  {
   "cell_type": "code",
   "execution_count": 4,
   "id": "e8f1e171",
   "metadata": {
    "execution": {
     "iopub.execute_input": "2024-03-21T04:24:44.325637Z",
     "iopub.status.busy": "2024-03-21T04:24:44.325270Z",
     "iopub.status.idle": "2024-03-21T04:24:44.333603Z",
     "shell.execute_reply": "2024-03-21T04:24:44.332183Z"
    },
    "papermill": {
     "duration": 0.024492,
     "end_time": "2024-03-21T04:24:44.335904",
     "exception": false,
     "start_time": "2024-03-21T04:24:44.311412",
     "status": "completed"
    },
    "tags": []
   },
   "outputs": [
    {
     "name": "stdout",
     "output_type": "stream",
     "text": [
      "Splitting 91 candies\n"
     ]
    },
    {
     "data": {
      "text/plain": [
       "1"
      ]
     },
     "execution_count": 4,
     "metadata": {},
     "output_type": "execute_result"
    }
   ],
   "source": [
    "def to_smash(total_candies):\n",
    "    \"\"\"Return the number of leftover candies that must be smashed after distributing\n",
    "    the given number of candies evenly between 3 friends.\n",
    "    \n",
    "    >>> to_smash(91)\n",
    "    1\n",
    "    \"\"\"\n",
    "    print(\"Splitting\", total_candies, \"candies\")\n",
    "    return total_candies % 3\n",
    "\n",
    "to_smash(91)"
   ]
  },
  {
   "cell_type": "markdown",
   "id": "d2cba3df",
   "metadata": {
    "papermill": {
     "duration": 0.012374,
     "end_time": "2024-03-21T04:24:44.361083",
     "exception": false,
     "start_time": "2024-03-21T04:24:44.348709",
     "status": "completed"
    },
    "tags": []
   },
   "source": [
    "What happens if we call it with `total_candies = 1`?"
   ]
  },
  {
   "cell_type": "code",
   "execution_count": 5,
   "id": "b0a699a8",
   "metadata": {
    "execution": {
     "iopub.execute_input": "2024-03-21T04:24:44.388317Z",
     "iopub.status.busy": "2024-03-21T04:24:44.387923Z",
     "iopub.status.idle": "2024-03-21T04:24:44.395569Z",
     "shell.execute_reply": "2024-03-21T04:24:44.394223Z"
    },
    "papermill": {
     "duration": 0.024193,
     "end_time": "2024-03-21T04:24:44.398005",
     "exception": false,
     "start_time": "2024-03-21T04:24:44.373812",
     "status": "completed"
    },
    "tags": []
   },
   "outputs": [
    {
     "name": "stdout",
     "output_type": "stream",
     "text": [
      "Splitting 1 candies\n"
     ]
    },
    {
     "data": {
      "text/plain": [
       "1"
      ]
     },
     "execution_count": 5,
     "metadata": {},
     "output_type": "execute_result"
    }
   ],
   "source": [
    "to_smash(1)"
   ]
  },
  {
   "cell_type": "markdown",
   "id": "40a01166",
   "metadata": {
    "papermill": {
     "duration": 0.012568,
     "end_time": "2024-03-21T04:24:44.423621",
     "exception": false,
     "start_time": "2024-03-21T04:24:44.411053",
     "status": "completed"
    },
    "tags": []
   },
   "source": [
    "That isn't great grammar!\n",
    "\n",
    "Modify the definition in the cell below to correct the grammar of our print statement. (If there's only one candy, we should use the singular \"candy\" instead of the plural \"candies\")"
   ]
  },
  {
   "cell_type": "code",
   "execution_count": 6,
   "id": "a92b8d25",
   "metadata": {
    "execution": {
     "iopub.execute_input": "2024-03-21T04:24:44.451536Z",
     "iopub.status.busy": "2024-03-21T04:24:44.451168Z",
     "iopub.status.idle": "2024-03-21T04:24:44.460512Z",
     "shell.execute_reply": "2024-03-21T04:24:44.459322Z"
    },
    "papermill": {
     "duration": 0.02627,
     "end_time": "2024-03-21T04:24:44.462902",
     "exception": false,
     "start_time": "2024-03-21T04:24:44.436632",
     "status": "completed"
    },
    "tags": []
   },
   "outputs": [
    {
     "name": "stdout",
     "output_type": "stream",
     "text": [
      "Splitting 91 candies\n",
      "Splitting 1 candy\n"
     ]
    },
    {
     "data": {
      "text/plain": [
       "1"
      ]
     },
     "execution_count": 6,
     "metadata": {},
     "output_type": "execute_result"
    }
   ],
   "source": [
    "def to_smash(total_candies):\n",
    "    \"\"\"Return the number of leftover candies that must be smashed after distributing\n",
    "    the given number of candies evenly between 3 friends.\n",
    "    \n",
    "    >>> to_smash(91)\n",
    "    1\n",
    "    \"\"\"\n",
    "    if total_candies==1:\n",
    "        print(\"Splitting\", total_candies, \"candy\")\n",
    "        return total_candies % 3\n",
    "    else:\n",
    "        print(\"Splitting\", total_candies, \"candies\")\n",
    "        return total_candies % 3\n",
    "\n",
    "to_smash(91)\n",
    "to_smash(1)"
   ]
  },
  {
   "cell_type": "markdown",
   "id": "407e678b",
   "metadata": {
    "papermill": {
     "duration": 0.012733,
     "end_time": "2024-03-21T04:24:44.489245",
     "exception": false,
     "start_time": "2024-03-21T04:24:44.476512",
     "status": "completed"
    },
    "tags": []
   },
   "source": [
    "To get credit for completing this problem, and to see the official answer, run the code cell below."
   ]
  },
  {
   "cell_type": "code",
   "execution_count": 7,
   "id": "5f9a0f63",
   "metadata": {
    "execution": {
     "iopub.execute_input": "2024-03-21T04:24:44.517413Z",
     "iopub.status.busy": "2024-03-21T04:24:44.517007Z",
     "iopub.status.idle": "2024-03-21T04:24:44.527192Z",
     "shell.execute_reply": "2024-03-21T04:24:44.526096Z"
    },
    "papermill": {
     "duration": 0.027216,
     "end_time": "2024-03-21T04:24:44.529621",
     "exception": false,
     "start_time": "2024-03-21T04:24:44.502405",
     "status": "completed"
    },
    "tags": []
   },
   "outputs": [
    {
     "data": {
      "application/javascript": [
       "parent.postMessage({\"jupyterEvent\": \"custom.exercise_interaction\", \"data\": {\"interactionType\": 3, \"questionType\": 4, \"questionId\": \"2_PluralizationProblem\", \"learnToolsVersion\": \"0.3.4\", \"valueTowardsCompletion\": 0.0, \"failureMessage\": \"\", \"exceptionClass\": \"\", \"trace\": \"\", \"outcomeType\": 4}}, \"*\")"
      ],
      "text/plain": [
       "<IPython.core.display.Javascript object>"
      ]
     },
     "metadata": {},
     "output_type": "display_data"
    },
    {
     "data": {
      "text/markdown": [
       "<span style=\"color:#33cc99\">Solution:</span> A straightforward (and totally fine) solution is to replace the original `print` call with:\n",
       "\n",
       "```python\n",
       "if total_candies == 1:\n",
       "    print(\"Splitting 1 candy\")\n",
       "else:\n",
       "    print(\"Splitting\", total_candies, \"candies\")\n",
       "```\n",
       "\n",
       "Here's a slightly more succinct solution using a conditional expression:\n",
       "\n",
       "```python\n",
       "print(\"Splitting\", total_candies, \"candy\" if total_candies == 1 else \"candies\")\n",
       "```"
      ],
      "text/plain": [
       "Solution: A straightforward (and totally fine) solution is to replace the original `print` call with:\n",
       "\n",
       "```python\n",
       "if total_candies == 1:\n",
       "    print(\"Splitting 1 candy\")\n",
       "else:\n",
       "    print(\"Splitting\", total_candies, \"candies\")\n",
       "```\n",
       "\n",
       "Here's a slightly more succinct solution using a conditional expression:\n",
       "\n",
       "```python\n",
       "print(\"Splitting\", total_candies, \"candy\" if total_candies == 1 else \"candies\")\n",
       "```"
      ]
     },
     "metadata": {},
     "output_type": "display_data"
    }
   ],
   "source": [
    "# Check your answer (Run this code cell to receive credit!)\n",
    "q2.solution()"
   ]
  },
  {
   "cell_type": "markdown",
   "id": "6f0aee45",
   "metadata": {
    "papermill": {
     "duration": 0.013661,
     "end_time": "2024-03-21T04:24:44.556980",
     "exception": false,
     "start_time": "2024-03-21T04:24:44.543319",
     "status": "completed"
    },
    "tags": []
   },
   "source": [
    "# 3. <span title=\"A bit spicy\" style=\"color: darkgreen \">🌶️</span>\n",
    "\n",
    "In the tutorial, we talked about deciding whether we're prepared for the weather. I said that I'm safe from today's weather if...\n",
    "- I have an umbrella...\n",
    "- or if the rain isn't too heavy and I have a hood...\n",
    "- otherwise, I'm still fine unless it's raining *and* it's a workday\n",
    "\n",
    "The function below uses our first attempt at turning this logic into a Python expression. I claimed that there was a bug in that code. Can you find it?\n",
    "\n",
    "To prove that `prepared_for_weather` is buggy, come up with a set of inputs where either:\n",
    "- the function returns `False` (but should have returned `True`), or\n",
    "- the function returned `True` (but should have returned `False`).\n",
    "\n",
    "To get credit for completing this question, your code should return a <font color='#33cc33'>Correct</font> result."
   ]
  },
  {
   "cell_type": "code",
   "execution_count": 8,
   "id": "a94beed9",
   "metadata": {
    "execution": {
     "iopub.execute_input": "2024-03-21T04:24:44.586066Z",
     "iopub.status.busy": "2024-03-21T04:24:44.585642Z",
     "iopub.status.idle": "2024-03-21T04:24:44.597617Z",
     "shell.execute_reply": "2024-03-21T04:24:44.596463Z"
    },
    "papermill": {
     "duration": 0.029385,
     "end_time": "2024-03-21T04:24:44.599937",
     "exception": false,
     "start_time": "2024-03-21T04:24:44.570552",
     "status": "completed"
    },
    "tags": []
   },
   "outputs": [
    {
     "name": "stdout",
     "output_type": "stream",
     "text": [
      "True\n"
     ]
    },
    {
     "data": {
      "application/javascript": [
       "parent.postMessage({\"jupyterEvent\": \"custom.exercise_interaction\", \"data\": {\"outcomeType\": 1, \"valueTowardsCompletion\": 0.2, \"interactionType\": 1, \"questionType\": 1, \"questionId\": \"3_WeatherDebug\", \"learnToolsVersion\": \"0.3.4\", \"failureMessage\": \"\", \"exceptionClass\": \"\", \"trace\": \"\"}}, \"*\")"
      ],
      "text/plain": [
       "<IPython.core.display.Javascript object>"
      ]
     },
     "metadata": {},
     "output_type": "display_data"
    },
    {
     "data": {
      "text/markdown": [
       "<span style=\"color:#33cc33\">Correct:</span> \n",
       "\n",
       "One example of a failing test case is:\n",
       "\n",
       "```python\n",
       "have_umbrella = False\n",
       "rain_level = 0.0\n",
       "have_hood = False\n",
       "is_workday = False\n",
       "```\n",
       "\n",
       "Clearly we're prepared for the weather in this case. It's not raining. Not only that, it's not a workday, so we don't even need to leave the house! But our function will return False on these inputs.\n",
       "\n",
       "The key problem is that Python implictly parenthesizes the last part as:\n",
       "\n",
       "```python\n",
       "(not (rain_level > 0)) and is_workday\n",
       "```\n",
       "\n",
       "Whereas what we were trying to express would look more like:\n",
       "\n",
       "```python\n",
       "not (rain_level > 0 and is_workday)\n",
       "```\n"
      ],
      "text/plain": [
       "Correct: \n",
       "\n",
       "One example of a failing test case is:\n",
       "\n",
       "```python\n",
       "have_umbrella = False\n",
       "rain_level = 0.0\n",
       "have_hood = False\n",
       "is_workday = False\n",
       "```\n",
       "\n",
       "Clearly we're prepared for the weather in this case. It's not raining. Not only that, it's not a workday, so we don't even need to leave the house! But our function will return False on these inputs.\n",
       "\n",
       "The key problem is that Python implictly parenthesizes the last part as:\n",
       "\n",
       "```python\n",
       "(not (rain_level > 0)) and is_workday\n",
       "```\n",
       "\n",
       "Whereas what we were trying to express would look more like:\n",
       "\n",
       "```python\n",
       "not (rain_level > 0 and is_workday)\n",
       "```"
      ]
     },
     "metadata": {},
     "output_type": "display_data"
    }
   ],
   "source": [
    "def prepared_for_weather(have_umbrella, rain_level, have_hood, is_workday):\n",
    "    # Don't change this code. Our goal is just to find the bug, not fix it!\n",
    "    return have_umbrella or (rain_level < 5 and have_hood) or not (rain_level > 0 and is_workday)\n",
    "\n",
    "# Change the values of these inputs so they represent a case where prepared_for_weather\n",
    "# returns the wrong answer.\n",
    "have_umbrella = False\n",
    "rain_level = 0.0\n",
    "have_hood = False\n",
    "is_workday = False\n",
    "\n",
    "# Check what the function returns given the current values of the variables above\n",
    "actual = prepared_for_weather(have_umbrella, rain_level, have_hood, is_workday)\n",
    "print(actual)\n",
    "\n",
    "# Check your answer\n",
    "q3.check()"
   ]
  },
  {
   "cell_type": "code",
   "execution_count": 9,
   "id": "1e55c94b",
   "metadata": {
    "execution": {
     "iopub.execute_input": "2024-03-21T04:24:44.630186Z",
     "iopub.status.busy": "2024-03-21T04:24:44.629825Z",
     "iopub.status.idle": "2024-03-21T04:24:44.637930Z",
     "shell.execute_reply": "2024-03-21T04:24:44.636862Z"
    },
    "papermill": {
     "duration": 0.026332,
     "end_time": "2024-03-21T04:24:44.640425",
     "exception": false,
     "start_time": "2024-03-21T04:24:44.614093",
     "status": "completed"
    },
    "tags": []
   },
   "outputs": [
    {
     "data": {
      "application/javascript": [
       "parent.postMessage({\"jupyterEvent\": \"custom.exercise_interaction\", \"data\": {\"interactionType\": 2, \"questionType\": 1, \"questionId\": \"3_WeatherDebug\", \"learnToolsVersion\": \"0.3.4\", \"valueTowardsCompletion\": 0.0, \"failureMessage\": \"\", \"exceptionClass\": \"\", \"trace\": \"\", \"outcomeType\": 4}}, \"*\")"
      ],
      "text/plain": [
       "<IPython.core.display.Javascript object>"
      ]
     },
     "metadata": {},
     "output_type": "display_data"
    },
    {
     "data": {
      "text/markdown": [
       "<span style=\"color:#3366cc\">Hint:</span> Take a look at how we fixed our original expression in the main lesson. We added parentheses around certain subexpressions. The bug in this code is caused by Python evaluating certain operations in the \"wrong\" order."
      ],
      "text/plain": [
       "Hint: Take a look at how we fixed our original expression in the main lesson. We added parentheses around certain subexpressions. The bug in this code is caused by Python evaluating certain operations in the \"wrong\" order."
      ]
     },
     "metadata": {},
     "output_type": "display_data"
    }
   ],
   "source": [
    "q3.hint()\n",
    "# q3.solution()"
   ]
  },
  {
   "cell_type": "markdown",
   "id": "7156ab4e",
   "metadata": {
    "papermill": {
     "duration": 0.015102,
     "end_time": "2024-03-21T04:24:44.670071",
     "exception": false,
     "start_time": "2024-03-21T04:24:44.654969",
     "status": "completed"
    },
    "tags": []
   },
   "source": [
    "# 4.\n",
    "\n",
    "The function `is_negative` below is implemented correctly - it returns True if the given number is negative and False otherwise.\n",
    "\n",
    "However, it's more verbose than it needs to be. We can actually reduce the number of lines of code in this function by *75%* while keeping the same behaviour. \n",
    "\n",
    "See if you can come up with an equivalent body that uses just **one line** of code, and put it in the function `concise_is_negative`. (HINT: you don't even need Python's ternary syntax)"
   ]
  },
  {
   "cell_type": "code",
   "execution_count": 10,
   "id": "666a00b4",
   "metadata": {
    "execution": {
     "iopub.execute_input": "2024-03-21T04:24:44.701000Z",
     "iopub.status.busy": "2024-03-21T04:24:44.700620Z",
     "iopub.status.idle": "2024-03-21T04:24:44.712071Z",
     "shell.execute_reply": "2024-03-21T04:24:44.711044Z"
    },
    "papermill": {
     "duration": 0.029977,
     "end_time": "2024-03-21T04:24:44.714842",
     "exception": false,
     "start_time": "2024-03-21T04:24:44.684865",
     "status": "completed"
    },
    "tags": []
   },
   "outputs": [
    {
     "name": "stdout",
     "output_type": "stream",
     "text": [
      "False\n"
     ]
    },
    {
     "data": {
      "application/javascript": [
       "parent.postMessage({\"jupyterEvent\": \"custom.exercise_interaction\", \"data\": {\"outcomeType\": 1, \"valueTowardsCompletion\": 0.2, \"interactionType\": 1, \"questionType\": 2, \"questionId\": \"4_ConciseIsNegative\", \"learnToolsVersion\": \"0.3.4\", \"failureMessage\": \"\", \"exceptionClass\": \"\", \"trace\": \"\"}}, \"*\")"
      ],
      "text/plain": [
       "<IPython.core.display.Javascript object>"
      ]
     },
     "metadata": {},
     "output_type": "display_data"
    },
    {
     "data": {
      "text/markdown": [
       "<span style=\"color:#33cc33\">Correct</span>"
      ],
      "text/plain": [
       "Correct"
      ]
     },
     "metadata": {},
     "output_type": "display_data"
    }
   ],
   "source": [
    "def is_negative(number):\n",
    "    if number < 0:\n",
    "        return True\n",
    "    else:\n",
    "        return False\n",
    "\n",
    "def concise_is_negative(number):\n",
    "    return True if number < 0 else False # Your code goes here (try to keep it to one line!)\n",
    "print(concise_is_negative(1))\n",
    "# Check your answer\n",
    "q4.check()"
   ]
  },
  {
   "cell_type": "code",
   "execution_count": 11,
   "id": "224fa262",
   "metadata": {
    "execution": {
     "iopub.execute_input": "2024-03-21T04:24:44.746311Z",
     "iopub.status.busy": "2024-03-21T04:24:44.745887Z",
     "iopub.status.idle": "2024-03-21T04:24:44.754467Z",
     "shell.execute_reply": "2024-03-21T04:24:44.753350Z"
    },
    "papermill": {
     "duration": 0.026907,
     "end_time": "2024-03-21T04:24:44.756615",
     "exception": false,
     "start_time": "2024-03-21T04:24:44.729708",
     "status": "completed"
    },
    "tags": []
   },
   "outputs": [
    {
     "data": {
      "application/javascript": [
       "parent.postMessage({\"jupyterEvent\": \"custom.exercise_interaction\", \"data\": {\"interactionType\": 2, \"questionType\": 2, \"questionId\": \"4_ConciseIsNegative\", \"learnToolsVersion\": \"0.3.4\", \"valueTowardsCompletion\": 0.0, \"failureMessage\": \"\", \"exceptionClass\": \"\", \"trace\": \"\", \"outcomeType\": 4}}, \"*\")"
      ],
      "text/plain": [
       "<IPython.core.display.Javascript object>"
      ]
     },
     "metadata": {},
     "output_type": "display_data"
    },
    {
     "data": {
      "text/markdown": [
       "<span style=\"color:#3366cc\">Hint:</span> If the value of the expression `number < 0` is `True`, then we return `True`. If it's `False`, then we return `False`..."
      ],
      "text/plain": [
       "Hint: If the value of the expression `number < 0` is `True`, then we return `True`. If it's `False`, then we return `False`..."
      ]
     },
     "metadata": {},
     "output_type": "display_data"
    }
   ],
   "source": [
    "q4.hint()\n",
    "#q4.solution()"
   ]
  },
  {
   "cell_type": "markdown",
   "id": "182c1bf6",
   "metadata": {
    "papermill": {
     "duration": 0.014956,
     "end_time": "2024-03-21T04:24:44.787122",
     "exception": false,
     "start_time": "2024-03-21T04:24:44.772166",
     "status": "completed"
    },
    "tags": []
   },
   "source": [
    "# 5a.\n",
    "\n",
    "The boolean variables `ketchup`, `mustard` and `onion` represent whether a customer wants a particular topping on their hot dog. We want to implement a number of boolean functions that correspond to some yes-or-no questions about the customer's order. For example:"
   ]
  },
  {
   "cell_type": "code",
   "execution_count": 12,
   "id": "d85d86b2",
   "metadata": {
    "execution": {
     "iopub.execute_input": "2024-03-21T04:24:44.819248Z",
     "iopub.status.busy": "2024-03-21T04:24:44.818845Z",
     "iopub.status.idle": "2024-03-21T04:24:44.824362Z",
     "shell.execute_reply": "2024-03-21T04:24:44.823147Z"
    },
    "papermill": {
     "duration": 0.024464,
     "end_time": "2024-03-21T04:24:44.826862",
     "exception": false,
     "start_time": "2024-03-21T04:24:44.802398",
     "status": "completed"
    },
    "tags": []
   },
   "outputs": [],
   "source": [
    "def onionless(ketchup, mustard, onion):\n",
    "    \"\"\"Return whether the customer doesn't want onions.\n",
    "    \"\"\"\n",
    "    return not onion"
   ]
  },
  {
   "cell_type": "code",
   "execution_count": 13,
   "id": "c9d1abac",
   "metadata": {
    "execution": {
     "iopub.execute_input": "2024-03-21T04:24:44.860303Z",
     "iopub.status.busy": "2024-03-21T04:24:44.859462Z",
     "iopub.status.idle": "2024-03-21T04:24:44.869170Z",
     "shell.execute_reply": "2024-03-21T04:24:44.868279Z"
    },
    "papermill": {
     "duration": 0.028982,
     "end_time": "2024-03-21T04:24:44.871259",
     "exception": false,
     "start_time": "2024-03-21T04:24:44.842277",
     "status": "completed"
    },
    "tags": []
   },
   "outputs": [
    {
     "data": {
      "application/javascript": [
       "parent.postMessage({\"jupyterEvent\": \"custom.exercise_interaction\", \"data\": {\"outcomeType\": 1, \"valueTowardsCompletion\": 0.2, \"interactionType\": 1, \"questionType\": 2, \"questionId\": \"5.1_AllToppings\", \"learnToolsVersion\": \"0.3.4\", \"failureMessage\": \"\", \"exceptionClass\": \"\", \"trace\": \"\"}}, \"*\")"
      ],
      "text/plain": [
       "<IPython.core.display.Javascript object>"
      ]
     },
     "metadata": {},
     "output_type": "display_data"
    },
    {
     "data": {
      "text/markdown": [
       "<span style=\"color:#33cc33\">Correct</span>"
      ],
      "text/plain": [
       "Correct"
      ]
     },
     "metadata": {},
     "output_type": "display_data"
    }
   ],
   "source": [
    "def wants_all_toppings(ketchup, mustard, onion):\n",
    "    \"\"\"Return whether the customer wants \"the works\" (all 3 toppings)\n",
    "    \"\"\"\n",
    "    return ketchup and mustard and onion\n",
    "\n",
    "# Check your answer\n",
    "q5.a.check()"
   ]
  },
  {
   "cell_type": "code",
   "execution_count": 14,
   "id": "798e9606",
   "metadata": {
    "execution": {
     "iopub.execute_input": "2024-03-21T04:24:44.904127Z",
     "iopub.status.busy": "2024-03-21T04:24:44.903693Z",
     "iopub.status.idle": "2024-03-21T04:24:44.912939Z",
     "shell.execute_reply": "2024-03-21T04:24:44.911735Z"
    },
    "papermill": {
     "duration": 0.028689,
     "end_time": "2024-03-21T04:24:44.915583",
     "exception": false,
     "start_time": "2024-03-21T04:24:44.886894",
     "status": "completed"
    },
    "tags": []
   },
   "outputs": [
    {
     "data": {
      "application/javascript": [
       "parent.postMessage({\"jupyterEvent\": \"custom.exercise_interaction\", \"data\": {\"interactionType\": 2, \"questionType\": 2, \"questionId\": \"5.1_AllToppings\", \"learnToolsVersion\": \"0.3.4\", \"valueTowardsCompletion\": 0.0, \"failureMessage\": \"\", \"exceptionClass\": \"\", \"trace\": \"\", \"outcomeType\": 4}}, \"*\")"
      ],
      "text/plain": [
       "<IPython.core.display.Javascript object>"
      ]
     },
     "metadata": {},
     "output_type": "display_data"
    },
    {
     "data": {
      "text/markdown": [
       "<span style=\"color:#3366cc\">Hint:</span> You'll need to use the `and` operator."
      ],
      "text/plain": [
       "Hint: You'll need to use the `and` operator."
      ]
     },
     "metadata": {},
     "output_type": "display_data"
    }
   ],
   "source": [
    "q5.a.hint()\n",
    "#q5.a.solution()"
   ]
  },
  {
   "cell_type": "markdown",
   "id": "0f8f858f",
   "metadata": {
    "papermill": {
     "duration": 0.015766,
     "end_time": "2024-03-21T04:24:44.947925",
     "exception": false,
     "start_time": "2024-03-21T04:24:44.932159",
     "status": "completed"
    },
    "tags": []
   },
   "source": [
    "# 5b.\n",
    "\n",
    "For the next function, fill in the body to match the English description in the docstring. "
   ]
  },
  {
   "cell_type": "code",
   "execution_count": 15,
   "id": "d1612e10",
   "metadata": {
    "execution": {
     "iopub.execute_input": "2024-03-21T04:24:44.982332Z",
     "iopub.status.busy": "2024-03-21T04:24:44.981565Z",
     "iopub.status.idle": "2024-03-21T04:24:44.989997Z",
     "shell.execute_reply": "2024-03-21T04:24:44.988987Z"
    },
    "papermill": {
     "duration": 0.028175,
     "end_time": "2024-03-21T04:24:44.992164",
     "exception": false,
     "start_time": "2024-03-21T04:24:44.963989",
     "status": "completed"
    },
    "tags": []
   },
   "outputs": [
    {
     "data": {
      "application/javascript": [
       "parent.postMessage({\"jupyterEvent\": \"custom.exercise_interaction\", \"data\": {\"outcomeType\": 1, \"valueTowardsCompletion\": 0.2, \"interactionType\": 1, \"questionType\": 2, \"questionId\": \"5.2_PlainDog\", \"learnToolsVersion\": \"0.3.4\", \"failureMessage\": \"\", \"exceptionClass\": \"\", \"trace\": \"\"}}, \"*\")"
      ],
      "text/plain": [
       "<IPython.core.display.Javascript object>"
      ]
     },
     "metadata": {},
     "output_type": "display_data"
    },
    {
     "data": {
      "text/markdown": [
       "<span style=\"color:#33cc33\">Correct:</span> \n",
       "\n",
       "One solution looks like:\n",
       "```python\n",
       "return not ketchup and not mustard and not onion\n",
       "```\n",
       "\n",
       "We can also [\"factor out\" the nots](https://en.wikipedia.org/wiki/De_Morgan%27s_laws) to get:\n",
       "\n",
       "```python\n",
       "return not (ketchup or mustard or onion)\n",
       "```"
      ],
      "text/plain": [
       "Correct: \n",
       "\n",
       "One solution looks like:\n",
       "```python\n",
       "return not ketchup and not mustard and not onion\n",
       "```\n",
       "\n",
       "We can also [\"factor out\" the nots](https://en.wikipedia.org/wiki/De_Morgan%27s_laws) to get:\n",
       "\n",
       "```python\n",
       "return not (ketchup or mustard or onion)\n",
       "```"
      ]
     },
     "metadata": {},
     "output_type": "display_data"
    }
   ],
   "source": [
    "def wants_plain_hotdog(ketchup, mustard, onion):\n",
    "    \"\"\"Return whether the customer wants a plain hot dog with no toppings.\n",
    "    \"\"\"\n",
    "    return not ketchup and not mustard and not onion \n",
    "\n",
    "# Check your answer\n",
    "q5.b.check()"
   ]
  },
  {
   "cell_type": "code",
   "execution_count": 16,
   "id": "3c156ed9",
   "metadata": {
    "execution": {
     "iopub.execute_input": "2024-03-21T04:24:45.028125Z",
     "iopub.status.busy": "2024-03-21T04:24:45.027141Z",
     "iopub.status.idle": "2024-03-21T04:24:45.032287Z",
     "shell.execute_reply": "2024-03-21T04:24:45.031180Z"
    },
    "papermill": {
     "duration": 0.0254,
     "end_time": "2024-03-21T04:24:45.034826",
     "exception": false,
     "start_time": "2024-03-21T04:24:45.009426",
     "status": "completed"
    },
    "tags": []
   },
   "outputs": [],
   "source": [
    "#q5.b.hint()\n",
    "#q5.b.solution()"
   ]
  },
  {
   "cell_type": "markdown",
   "id": "87c640fd",
   "metadata": {
    "papermill": {
     "duration": 0.016093,
     "end_time": "2024-03-21T04:24:45.067327",
     "exception": false,
     "start_time": "2024-03-21T04:24:45.051234",
     "status": "completed"
    },
    "tags": []
   },
   "source": [
    "# 5c.\n",
    "\n",
    "You know what to do: for the next function, fill in the body to match the English description in the docstring."
   ]
  },
  {
   "cell_type": "code",
   "execution_count": 17,
   "id": "abb0ba0b",
   "metadata": {
    "execution": {
     "iopub.execute_input": "2024-03-21T04:24:45.102033Z",
     "iopub.status.busy": "2024-03-21T04:24:45.101649Z",
     "iopub.status.idle": "2024-03-21T04:24:45.110913Z",
     "shell.execute_reply": "2024-03-21T04:24:45.109822Z"
    },
    "papermill": {
     "duration": 0.0295,
     "end_time": "2024-03-21T04:24:45.113266",
     "exception": false,
     "start_time": "2024-03-21T04:24:45.083766",
     "status": "completed"
    },
    "tags": []
   },
   "outputs": [
    {
     "data": {
      "application/javascript": [
       "parent.postMessage({\"jupyterEvent\": \"custom.exercise_interaction\", \"data\": {\"outcomeType\": 1, \"valueTowardsCompletion\": 0.2, \"interactionType\": 1, \"questionType\": 2, \"questionId\": \"5.3_OneSauce\", \"learnToolsVersion\": \"0.3.4\", \"failureMessage\": \"\", \"exceptionClass\": \"\", \"trace\": \"\"}}, \"*\")"
      ],
      "text/plain": [
       "<IPython.core.display.Javascript object>"
      ]
     },
     "metadata": {},
     "output_type": "display_data"
    },
    {
     "data": {
      "text/markdown": [
       "<span style=\"color:#33cc33\">Correct</span>"
      ],
      "text/plain": [
       "Correct"
      ]
     },
     "metadata": {},
     "output_type": "display_data"
    }
   ],
   "source": [
    "def exactly_one_sauce(ketchup, mustard, onion):\n",
    "    \"\"\"Return whether the customer wants either ketchup or mustard, but not both.\n",
    "    (You may be familiar with this operation under the name \"exclusive or\")\n",
    "    \"\"\"\n",
    "    return (ketchup or mustard) and onion and not (ketchup and mustard)\n",
    "\n",
    "# Check your answer\n",
    "q5.c.check()"
   ]
  },
  {
   "cell_type": "code",
   "execution_count": 18,
   "id": "0b5d3220",
   "metadata": {
    "execution": {
     "iopub.execute_input": "2024-03-21T04:24:45.149243Z",
     "iopub.status.busy": "2024-03-21T04:24:45.148038Z",
     "iopub.status.idle": "2024-03-21T04:24:45.152946Z",
     "shell.execute_reply": "2024-03-21T04:24:45.152137Z"
    },
    "papermill": {
     "duration": 0.025305,
     "end_time": "2024-03-21T04:24:45.155262",
     "exception": false,
     "start_time": "2024-03-21T04:24:45.129957",
     "status": "completed"
    },
    "tags": []
   },
   "outputs": [],
   "source": [
    "#q5.c.hint()\n",
    "#q5.c.solution()"
   ]
  },
  {
   "cell_type": "markdown",
   "id": "31bb4d49",
   "metadata": {
    "papermill": {
     "duration": 0.016531,
     "end_time": "2024-03-21T04:24:45.189224",
     "exception": false,
     "start_time": "2024-03-21T04:24:45.172693",
     "status": "completed"
    },
    "tags": []
   },
   "source": [
    "# 6. <span title=\"A bit spicy\" style=\"color: darkgreen \">🌶️</span>\n",
    "\n",
    "We’ve seen that calling `bool()` on an integer returns `False` if it’s equal to 0 and `True` otherwise. What happens if we call `int()` on a bool? Try it out in the notebook cell below.\n",
    "\n",
    "Can you take advantage of this to write a succinct function that corresponds to the English sentence \"does the customer want exactly one topping?\"?"
   ]
  },
  {
   "cell_type": "code",
   "execution_count": 19,
   "id": "958249fa",
   "metadata": {
    "execution": {
     "iopub.execute_input": "2024-03-21T04:24:45.286735Z",
     "iopub.status.busy": "2024-03-21T04:24:45.285981Z",
     "iopub.status.idle": "2024-03-21T04:24:45.295848Z",
     "shell.execute_reply": "2024-03-21T04:24:45.295040Z"
    },
    "papermill": {
     "duration": 0.030834,
     "end_time": "2024-03-21T04:24:45.297846",
     "exception": false,
     "start_time": "2024-03-21T04:24:45.267012",
     "status": "completed"
    },
    "tags": []
   },
   "outputs": [
    {
     "data": {
      "application/javascript": [
       "parent.postMessage({\"jupyterEvent\": \"custom.exercise_interaction\", \"data\": {\"outcomeType\": 1, \"valueTowardsCompletion\": 0.2, \"interactionType\": 1, \"questionType\": 2, \"questionId\": \"6_OneTopping\", \"learnToolsVersion\": \"0.3.4\", \"failureMessage\": \"\", \"exceptionClass\": \"\", \"trace\": \"\"}}, \"*\")"
      ],
      "text/plain": [
       "<IPython.core.display.Javascript object>"
      ]
     },
     "metadata": {},
     "output_type": "display_data"
    },
    {
     "data": {
      "text/markdown": [
       "<span style=\"color:#33cc33\">Correct:</span> \n",
       "\n",
       "This condition would be pretty complicated to express using just `and`, `or` and `not`, but using boolean-to-integer conversion gives us this short solution:\n",
       "```python\n",
       "return (int(ketchup) + int(mustard) + int(onion)) == 1\n",
       "```\n",
       "\n",
       "Fun fact: we don't technically need to call `int` on the arguments. Just by doing addition with booleans, Python implicitly does the integer conversion. So we could also write...\n",
       "\n",
       "```python\n",
       "return (ketchup + mustard + onion) == 1\n",
       "```"
      ],
      "text/plain": [
       "Correct: \n",
       "\n",
       "This condition would be pretty complicated to express using just `and`, `or` and `not`, but using boolean-to-integer conversion gives us this short solution:\n",
       "```python\n",
       "return (int(ketchup) + int(mustard) + int(onion)) == 1\n",
       "```\n",
       "\n",
       "Fun fact: we don't technically need to call `int` on the arguments. Just by doing addition with booleans, Python implicitly does the integer conversion. So we could also write...\n",
       "\n",
       "```python\n",
       "return (ketchup + mustard + onion) == 1\n",
       "```"
      ]
     },
     "metadata": {},
     "output_type": "display_data"
    }
   ],
   "source": [
    "def exactly_one_topping(ketchup, mustard, onion):\n",
    "    \"\"\"Return whether the customer wants exactly one of the three available toppings\n",
    "    on their hot dog.\n",
    "    \"\"\"\n",
    "    return (int(ketchup)+int(mustard)+int(onion))==1\n",
    "# Check your answer\n",
    "q6.check()"
   ]
  },
  {
   "cell_type": "code",
   "execution_count": 20,
   "id": "e1dc3fe8",
   "metadata": {
    "execution": {
     "iopub.execute_input": "2024-03-21T04:24:45.334643Z",
     "iopub.status.busy": "2024-03-21T04:24:45.333929Z",
     "iopub.status.idle": "2024-03-21T04:24:45.347225Z",
     "shell.execute_reply": "2024-03-21T04:24:45.346087Z"
    },
    "papermill": {
     "duration": 0.03472,
     "end_time": "2024-03-21T04:24:45.349798",
     "exception": false,
     "start_time": "2024-03-21T04:24:45.315078",
     "status": "completed"
    },
    "tags": []
   },
   "outputs": [
    {
     "data": {
      "application/javascript": [
       "parent.postMessage({\"jupyterEvent\": \"custom.exercise_interaction\", \"data\": {\"interactionType\": 2, \"questionType\": 2, \"questionId\": \"6_OneTopping\", \"learnToolsVersion\": \"0.3.4\", \"valueTowardsCompletion\": 0.0, \"failureMessage\": \"\", \"exceptionClass\": \"\", \"trace\": \"\", \"outcomeType\": 4}}, \"*\")"
      ],
      "text/plain": [
       "<IPython.core.display.Javascript object>"
      ]
     },
     "metadata": {},
     "output_type": "display_data"
    },
    {
     "data": {
      "text/markdown": [
       "<span style=\"color:#3366cc\">Hint:</span> You may have already found that `int(True)` is 1, and `int(False)` is 0. Think about what kinds of basic arithmetic operations you might want to perform on `ketchup`, `mustard`, and `onion` after converting them to integers."
      ],
      "text/plain": [
       "Hint: You may have already found that `int(True)` is 1, and `int(False)` is 0. Think about what kinds of basic arithmetic operations you might want to perform on `ketchup`, `mustard`, and `onion` after converting them to integers."
      ]
     },
     "metadata": {},
     "output_type": "display_data"
    },
    {
     "data": {
      "application/javascript": [
       "parent.postMessage({\"jupyterEvent\": \"custom.exercise_interaction\", \"data\": {\"interactionType\": 3, \"questionType\": 2, \"questionId\": \"6_OneTopping\", \"learnToolsVersion\": \"0.3.4\", \"valueTowardsCompletion\": 0.0, \"failureMessage\": \"\", \"exceptionClass\": \"\", \"trace\": \"\", \"outcomeType\": 4}}, \"*\")"
      ],
      "text/plain": [
       "<IPython.core.display.Javascript object>"
      ]
     },
     "metadata": {},
     "output_type": "display_data"
    },
    {
     "data": {
      "text/markdown": [
       "<span style=\"color:#33cc99\">Solution:</span> This condition would be pretty complicated to express using just `and`, `or` and `not`, but using boolean-to-integer conversion gives us this short solution:\n",
       "```python\n",
       "return (int(ketchup) + int(mustard) + int(onion)) == 1\n",
       "```\n",
       "\n",
       "Fun fact: we don't technically need to call `int` on the arguments. Just by doing addition with booleans, Python implicitly does the integer conversion. So we could also write...\n",
       "\n",
       "```python\n",
       "return (ketchup + mustard + onion) == 1\n",
       "```"
      ],
      "text/plain": [
       "Solution: This condition would be pretty complicated to express using just `and`, `or` and `not`, but using boolean-to-integer conversion gives us this short solution:\n",
       "```python\n",
       "return (int(ketchup) + int(mustard) + int(onion)) == 1\n",
       "```\n",
       "\n",
       "Fun fact: we don't technically need to call `int` on the arguments. Just by doing addition with booleans, Python implicitly does the integer conversion. So we could also write...\n",
       "\n",
       "```python\n",
       "return (ketchup + mustard + onion) == 1\n",
       "```"
      ]
     },
     "metadata": {},
     "output_type": "display_data"
    }
   ],
   "source": [
    "q6.hint()\n",
    "q6.solution()"
   ]
  },
  {
   "cell_type": "markdown",
   "id": "b647346a",
   "metadata": {
    "papermill": {
     "duration": 0.019062,
     "end_time": "2024-03-21T04:24:45.386918",
     "exception": false,
     "start_time": "2024-03-21T04:24:45.367856",
     "status": "completed"
    },
    "tags": []
   },
   "source": [
    "# 7. <span title=\"A bit spicy\" style=\"color: darkgreen \">🌶️</span> (Optional)\n",
    "\n",
    "In this problem we'll be working with a simplified version of [blackjack](https://en.wikipedia.org/wiki/Blackjack) (aka twenty-one). In this version there is one player (who you'll control) and a dealer. Play proceeds as follows:\n",
    "\n",
    "- The player is dealt two face-up cards. The dealer is dealt one face-up card.\n",
    "- The player may ask to be dealt another card ('hit') as many times as they wish. If the sum of their cards exceeds 21, they lose the round immediately.\n",
    "- The dealer then deals additional cards to himself until either:\n",
    "    - the sum of the dealer's cards exceeds 21, in which case the player wins the round\n",
    "    - the sum of the dealer's cards is greater than or equal to 17. If the player's total is greater than the dealer's, the player wins. Otherwise, the dealer wins (even in case of a tie).\n",
    "    \n",
    "When calculating the sum of cards, Jack, Queen, and King count for 10. Aces can count as 1 or 11 (when referring to a player's \"total\" above, we mean the largest total that can be made without exceeding 21. So e.g. A+8 = 19, A+8+8 = 17)\n",
    "\n",
    "For this problem, you'll write a function representing the player's decision-making strategy in this game. We've provided a very unintelligent implementation below:"
   ]
  },
  {
   "cell_type": "code",
   "execution_count": 21,
   "id": "f21f255b",
   "metadata": {
    "execution": {
     "iopub.execute_input": "2024-03-21T04:24:45.425879Z",
     "iopub.status.busy": "2024-03-21T04:24:45.424999Z",
     "iopub.status.idle": "2024-03-21T04:24:45.431033Z",
     "shell.execute_reply": "2024-03-21T04:24:45.430160Z"
    },
    "papermill": {
     "duration": 0.028375,
     "end_time": "2024-03-21T04:24:45.433608",
     "exception": false,
     "start_time": "2024-03-21T04:24:45.405233",
     "status": "completed"
    },
    "tags": []
   },
   "outputs": [],
   "source": [
    "def should_hit(dealer_total, player_total, player_low_aces, player_high_aces):\n",
    "    \"\"\"Return True if the player should hit (request another card) given the current game\n",
    "    state, or False if the player should stay.\n",
    "    When calculating a hand's total value, we count aces as \"high\" (with value 11) if doing so\n",
    "    doesn't bring the total above 21, otherwise we count them as low (with value 1). \n",
    "    For example, if the player's hand is {A, A, A, 7}, we will count it as 11 + 1 + 1 + 7,\n",
    "    and therefore set player_total=20, player_low_aces=2, player_high_aces=1.\n",
    "    \"\"\"\n",
    "    return player_total<dealer_total\n"
   ]
  },
  {
   "cell_type": "markdown",
   "id": "4e99d975",
   "metadata": {
    "papermill": {
     "duration": 0.017875,
     "end_time": "2024-03-21T04:24:45.469904",
     "exception": false,
     "start_time": "2024-03-21T04:24:45.452029",
     "status": "completed"
    },
    "tags": []
   },
   "source": [
    "This very conservative agent *always* sticks with the hand of two cards that they're dealt.\n",
    "\n",
    "We'll be simulating games between your player agent and our own dealer agent by calling your function.\n",
    "\n",
    "Try running the function below to see an example of a simulated game:"
   ]
  },
  {
   "cell_type": "code",
   "execution_count": 22,
   "id": "7403ac7a",
   "metadata": {
    "execution": {
     "iopub.execute_input": "2024-03-21T04:24:45.508512Z",
     "iopub.status.busy": "2024-03-21T04:24:45.507625Z",
     "iopub.status.idle": "2024-03-21T04:24:45.514121Z",
     "shell.execute_reply": "2024-03-21T04:24:45.512965Z"
    },
    "papermill": {
     "duration": 0.028347,
     "end_time": "2024-03-21T04:24:45.516371",
     "exception": false,
     "start_time": "2024-03-21T04:24:45.488024",
     "status": "completed"
    },
    "tags": []
   },
   "outputs": [
    {
     "name": "stdout",
     "output_type": "stream",
     "text": [
      "Player starts with 5 and A (total = 16)\n",
      "Dealer starts with 10\n",
      "\n",
      "__Player's turn__\n",
      "Player stays\n",
      "\n",
      "__Dealer's turn__\n",
      "Dealer hits and receives 3. (total = 13)\n",
      "Dealer hits and receives 7. (total = 20)\n",
      "Dealer stands.\n",
      "Dealer wins. 20 >= 16\n"
     ]
    }
   ],
   "source": [
    "q7.simulate_one_game()\n"
   ]
  },
  {
   "cell_type": "markdown",
   "id": "b5f73c57",
   "metadata": {
    "papermill": {
     "duration": 0.017787,
     "end_time": "2024-03-21T04:24:45.552506",
     "exception": false,
     "start_time": "2024-03-21T04:24:45.534719",
     "status": "completed"
    },
    "tags": []
   },
   "source": [
    "The real test of your agent's mettle is their average win rate over many games. Try calling the function below to simulate 50000 games of blackjack (it may take a couple seconds):"
   ]
  },
  {
   "cell_type": "code",
   "execution_count": 23,
   "id": "71f8cb55",
   "metadata": {
    "execution": {
     "iopub.execute_input": "2024-03-21T04:24:45.592286Z",
     "iopub.status.busy": "2024-03-21T04:24:45.591374Z",
     "iopub.status.idle": "2024-03-21T04:24:47.848432Z",
     "shell.execute_reply": "2024-03-21T04:24:47.847229Z"
    },
    "papermill": {
     "duration": 2.279247,
     "end_time": "2024-03-21T04:24:47.851072",
     "exception": false,
     "start_time": "2024-03-21T04:24:45.571825",
     "status": "completed"
    },
    "tags": []
   },
   "outputs": [
    {
     "name": "stdout",
     "output_type": "stream",
     "text": [
      "Player won 19269 out of 50000 games (win rate = 38.5%)\n"
     ]
    }
   ],
   "source": [
    "q7.simulate(n_games=50000)"
   ]
  },
  {
   "cell_type": "markdown",
   "id": "7925302c",
   "metadata": {
    "papermill": {
     "duration": 0.0177,
     "end_time": "2024-03-21T04:24:47.887334",
     "exception": false,
     "start_time": "2024-03-21T04:24:47.869634",
     "status": "completed"
    },
    "tags": []
   },
   "source": [
    "Our dumb agent that completely ignores the game state still manages to win shockingly often!\n",
    "\n",
    "Try adding some more smarts to the `should_hit` function and see how it affects the results."
   ]
  },
  {
   "cell_type": "code",
   "execution_count": 24,
   "id": "4bb59ce4",
   "metadata": {
    "execution": {
     "iopub.execute_input": "2024-03-21T04:24:47.925129Z",
     "iopub.status.busy": "2024-03-21T04:24:47.924702Z",
     "iopub.status.idle": "2024-03-21T04:24:50.270668Z",
     "shell.execute_reply": "2024-03-21T04:24:50.269427Z"
    },
    "papermill": {
     "duration": 2.368571,
     "end_time": "2024-03-21T04:24:50.273866",
     "exception": false,
     "start_time": "2024-03-21T04:24:47.905295",
     "status": "completed"
    },
    "tags": []
   },
   "outputs": [
    {
     "name": "stdout",
     "output_type": "stream",
     "text": [
      "Player won 50000 out of 50000 games (win rate = 100.0%)\n"
     ]
    }
   ],
   "source": [
    "import random\n",
    "def should_hit(dealer_total, player_total, player_low_aces, player_high_aces):\n",
    "    \"\"\"Return True if the player should hit (request another card) given the current game\n",
    "    state, or False if the player should stay.\n",
    "    When calculating a hand's total value, we count aces as \"high\" (with value 11) if doing so\n",
    "    doesn't bring the total above 21, otherwise we count them as low (with value 1). \n",
    "    For example, if the player's hand is {A, A, A, 7}, we will count it as 11 + 1 + 1 + 7,\n",
    "    and therefore set player_total=20, player_low_aces=2, player_high_aces=1.\n",
    "    \"\"\"\n",
    "    \n",
    "    return random.seed(0)\n",
    "\n",
    "q7.simulate(n_games=50000)"
   ]
  },
  {
   "cell_type": "markdown",
   "id": "d4e6ee1e",
   "metadata": {
    "papermill": {
     "duration": 0.018006,
     "end_time": "2024-03-21T04:24:50.310327",
     "exception": false,
     "start_time": "2024-03-21T04:24:50.292321",
     "status": "completed"
    },
    "tags": []
   },
   "source": [
    "# Keep Going\n",
    "\n",
    "Learn about **[lists and tuples](https://www.kaggle.com/colinmorris/lists)** to handle multiple items of data in a systematic way."
   ]
  },
  {
   "cell_type": "markdown",
   "id": "064fe0f1",
   "metadata": {
    "papermill": {
     "duration": 0.018358,
     "end_time": "2024-03-21T04:24:50.347370",
     "exception": false,
     "start_time": "2024-03-21T04:24:50.329012",
     "status": "completed"
    },
    "tags": []
   },
   "source": [
    "---\n",
    "\n",
    "\n",
    "\n",
    "\n",
    "*Have questions or comments? Visit the [course discussion forum](https://www.kaggle.com/learn/python/discussion) to chat with other learners.*"
   ]
  }
 ],
 "metadata": {
  "kaggle": {
   "accelerator": "none",
   "dataSources": [],
   "isGpuEnabled": false,
   "isInternetEnabled": false,
   "language": "python",
   "sourceType": "notebook"
  },
  "kernelspec": {
   "display_name": "Python 3",
   "language": "python",
   "name": "python3"
  },
  "language_info": {
   "codemirror_mode": {
    "name": "ipython",
    "version": 3
   },
   "file_extension": ".py",
   "mimetype": "text/x-python",
   "name": "python",
   "nbconvert_exporter": "python",
   "pygments_lexer": "ipython3",
   "version": "3.10.13"
  },
  "learntools_metadata": {
   "lesson_index": 2,
   "type": "exercise"
  },
  "papermill": {
   "default_parameters": {},
   "duration": 10.834401,
   "end_time": "2024-03-21T04:24:50.887535",
   "environment_variables": {},
   "exception": null,
   "input_path": "__notebook__.ipynb",
   "output_path": "__notebook__.ipynb",
   "parameters": {},
   "start_time": "2024-03-21T04:24:40.053134",
   "version": "2.5.0"
  }
 },
 "nbformat": 4,
 "nbformat_minor": 5
}
