{
 "cells": [
  {
   "cell_type": "markdown",
   "id": "c5e2af06",
   "metadata": {
    "papermill": {
     "duration": 0.007978,
     "end_time": "2024-04-10T09:05:52.444310",
     "exception": false,
     "start_time": "2024-04-10T09:05:52.436332",
     "status": "completed"
    },
    "tags": []
   },
   "source": [
    "**This notebook is an exercise in the [Python](https://www.kaggle.com/learn/python) course.  You can reference the tutorial at [this link](https://www.kaggle.com/colinmorris/strings-and-dictionaries).**\n",
    "\n",
    "---\n"
   ]
  },
  {
   "cell_type": "markdown",
   "id": "a4909c81",
   "metadata": {
    "papermill": {
     "duration": 0.006981,
     "end_time": "2024-04-10T09:05:52.458966",
     "exception": false,
     "start_time": "2024-04-10T09:05:52.451985",
     "status": "completed"
    },
    "tags": []
   },
   "source": [
    "You are almost done with the course. Nice job!\n",
    "\n",
    "We have a couple more interesting problems for you before you go. \n",
    "\n",
    "As always, run the setup code below before working on the questions."
   ]
  },
  {
   "cell_type": "code",
   "execution_count": 1,
   "id": "6c7e82b3",
   "metadata": {
    "execution": {
     "iopub.execute_input": "2024-04-10T09:05:52.475890Z",
     "iopub.status.busy": "2024-04-10T09:05:52.475402Z",
     "iopub.status.idle": "2024-04-10T09:05:53.639800Z",
     "shell.execute_reply": "2024-04-10T09:05:53.637514Z"
    },
    "papermill": {
     "duration": 1.17649,
     "end_time": "2024-04-10T09:05:53.643000",
     "exception": false,
     "start_time": "2024-04-10T09:05:52.466510",
     "status": "completed"
    },
    "tags": []
   },
   "outputs": [
    {
     "name": "stdout",
     "output_type": "stream",
     "text": [
      "Setup complete.\n"
     ]
    }
   ],
   "source": [
    "from learntools.core import binder; binder.bind(globals())\n",
    "from learntools.python.ex6 import *\n",
    "print('Setup complete.')"
   ]
  },
  {
   "cell_type": "markdown",
   "id": "9fc530fa",
   "metadata": {
    "papermill": {
     "duration": 0.007341,
     "end_time": "2024-04-10T09:05:53.658158",
     "exception": false,
     "start_time": "2024-04-10T09:05:53.650817",
     "status": "completed"
    },
    "tags": []
   },
   "source": [
    "Let's start with a string lightning round to warm up. What are the lengths of the strings below?\n",
    "\n",
    "For each of the five strings below, predict what `len()` would return when passed that string. Use the variable `length` to record your answer, then run the cell to check whether you were right.  \n",
    "\n",
    "# 0a."
   ]
  },
  {
   "cell_type": "code",
   "execution_count": 2,
   "id": "4349a8f9",
   "metadata": {
    "execution": {
     "iopub.execute_input": "2024-04-10T09:05:53.675752Z",
     "iopub.status.busy": "2024-04-10T09:05:53.675106Z",
     "iopub.status.idle": "2024-04-10T09:05:53.686106Z",
     "shell.execute_reply": "2024-04-10T09:05:53.684783Z"
    },
    "papermill": {
     "duration": 0.023143,
     "end_time": "2024-04-10T09:05:53.688956",
     "exception": false,
     "start_time": "2024-04-10T09:05:53.665813",
     "status": "completed"
    },
    "tags": []
   },
   "outputs": [
    {
     "data": {
      "application/javascript": [
       "parent.postMessage({\"jupyterEvent\": \"custom.exercise_interaction\", \"data\": {\"outcomeType\": 1, \"valueTowardsCompletion\": 0.3333333333333333, \"interactionType\": 1, \"questionType\": 1, \"questionId\": \"0.1_ZA\", \"learnToolsVersion\": \"0.3.4\", \"failureMessage\": \"\", \"exceptionClass\": \"\", \"trace\": \"\"}}, \"*\")"
      ],
      "text/plain": [
       "<IPython.core.display.Javascript object>"
      ]
     },
     "metadata": {},
     "output_type": "display_data"
    },
    {
     "data": {
      "text/markdown": [
       "<span style=\"color:#33cc33\">Correct:</span> \n",
       "\n",
       "The empty string has length zero. Note that the empty string is also the only string that Python considers as False when converting to boolean."
      ],
      "text/plain": [
       "Correct: \n",
       "\n",
       "The empty string has length zero. Note that the empty string is also the only string that Python considers as False when converting to boolean."
      ]
     },
     "metadata": {},
     "output_type": "display_data"
    }
   ],
   "source": [
    "a = \"\"\n",
    "length = 0\n",
    "q0.a.check()"
   ]
  },
  {
   "cell_type": "markdown",
   "id": "6317162d",
   "metadata": {
    "papermill": {
     "duration": 0.00753,
     "end_time": "2024-04-10T09:05:53.704605",
     "exception": false,
     "start_time": "2024-04-10T09:05:53.697075",
     "status": "completed"
    },
    "tags": []
   },
   "source": [
    "# 0b."
   ]
  },
  {
   "cell_type": "code",
   "execution_count": 3,
   "id": "367dbe8d",
   "metadata": {
    "execution": {
     "iopub.execute_input": "2024-04-10T09:05:53.722117Z",
     "iopub.status.busy": "2024-04-10T09:05:53.721706Z",
     "iopub.status.idle": "2024-04-10T09:05:53.731319Z",
     "shell.execute_reply": "2024-04-10T09:05:53.730174Z"
    },
    "papermill": {
     "duration": 0.021569,
     "end_time": "2024-04-10T09:05:53.734001",
     "exception": false,
     "start_time": "2024-04-10T09:05:53.712432",
     "status": "completed"
    },
    "tags": []
   },
   "outputs": [
    {
     "data": {
      "application/javascript": [
       "parent.postMessage({\"jupyterEvent\": \"custom.exercise_interaction\", \"data\": {\"outcomeType\": 1, \"valueTowardsCompletion\": 0.3333333333333333, \"interactionType\": 1, \"questionType\": 1, \"questionId\": \"0.2_ZB\", \"learnToolsVersion\": \"0.3.4\", \"failureMessage\": \"\", \"exceptionClass\": \"\", \"trace\": \"\"}}, \"*\")"
      ],
      "text/plain": [
       "<IPython.core.display.Javascript object>"
      ]
     },
     "metadata": {},
     "output_type": "display_data"
    },
    {
     "data": {
      "text/markdown": [
       "<span style=\"color:#33cc33\">Correct:</span> \n",
       "\n",
       "Keep in mind Python includes spaces (and punctuation) when counting string length."
      ],
      "text/plain": [
       "Correct: \n",
       "\n",
       "Keep in mind Python includes spaces (and punctuation) when counting string length."
      ]
     },
     "metadata": {},
     "output_type": "display_data"
    }
   ],
   "source": [
    "b = \"it's ok\"\n",
    "length = 7\n",
    "q0.b.check()"
   ]
  },
  {
   "cell_type": "markdown",
   "id": "7f871aea",
   "metadata": {
    "papermill": {
     "duration": 0.008794,
     "end_time": "2024-04-10T09:05:53.751035",
     "exception": false,
     "start_time": "2024-04-10T09:05:53.742241",
     "status": "completed"
    },
    "tags": []
   },
   "source": [
    "# 0c."
   ]
  },
  {
   "cell_type": "code",
   "execution_count": 4,
   "id": "8e0ff4ad",
   "metadata": {
    "execution": {
     "iopub.execute_input": "2024-04-10T09:05:53.769328Z",
     "iopub.status.busy": "2024-04-10T09:05:53.768958Z",
     "iopub.status.idle": "2024-04-10T09:05:53.777939Z",
     "shell.execute_reply": "2024-04-10T09:05:53.777032Z"
    },
    "papermill": {
     "duration": 0.02085,
     "end_time": "2024-04-10T09:05:53.780177",
     "exception": false,
     "start_time": "2024-04-10T09:05:53.759327",
     "status": "completed"
    },
    "tags": []
   },
   "outputs": [
    {
     "data": {
      "application/javascript": [
       "parent.postMessage({\"jupyterEvent\": \"custom.exercise_interaction\", \"data\": {\"outcomeType\": 1, \"valueTowardsCompletion\": 0.3333333333333333, \"interactionType\": 1, \"questionType\": 1, \"questionId\": \"0.3_ZC\", \"learnToolsVersion\": \"0.3.4\", \"failureMessage\": \"\", \"exceptionClass\": \"\", \"trace\": \"\"}}, \"*\")"
      ],
      "text/plain": [
       "<IPython.core.display.Javascript object>"
      ]
     },
     "metadata": {},
     "output_type": "display_data"
    },
    {
     "data": {
      "text/markdown": [
       "<span style=\"color:#33cc33\">Correct:</span> \n",
       "\n",
       "Even though we use different syntax to create it, the string `c` is identical to `b`. In particular, note that the backslash is not part of the string, so it doesn't contribute to its length."
      ],
      "text/plain": [
       "Correct: \n",
       "\n",
       "Even though we use different syntax to create it, the string `c` is identical to `b`. In particular, note that the backslash is not part of the string, so it doesn't contribute to its length."
      ]
     },
     "metadata": {},
     "output_type": "display_data"
    }
   ],
   "source": [
    "c = 'it\\'s ok'\n",
    "length = 7\n",
    "q0.c.check()"
   ]
  },
  {
   "cell_type": "markdown",
   "id": "f59863e9",
   "metadata": {
    "papermill": {
     "duration": 0.009428,
     "end_time": "2024-04-10T09:05:53.798312",
     "exception": false,
     "start_time": "2024-04-10T09:05:53.788884",
     "status": "completed"
    },
    "tags": []
   },
   "source": [
    "# 0d."
   ]
  },
  {
   "cell_type": "code",
   "execution_count": 5,
   "id": "45b8b2ba",
   "metadata": {
    "execution": {
     "iopub.execute_input": "2024-04-10T09:05:53.817514Z",
     "iopub.status.busy": "2024-04-10T09:05:53.817082Z",
     "iopub.status.idle": "2024-04-10T09:05:53.827588Z",
     "shell.execute_reply": "2024-04-10T09:05:53.826413Z"
    },
    "papermill": {
     "duration": 0.023187,
     "end_time": "2024-04-10T09:05:53.830149",
     "exception": false,
     "start_time": "2024-04-10T09:05:53.806962",
     "status": "completed"
    },
    "tags": []
   },
   "outputs": [
    {
     "data": {
      "application/javascript": [
       "parent.postMessage({\"jupyterEvent\": \"custom.exercise_interaction\", \"data\": {\"outcomeType\": 1, \"valueTowardsCompletion\": 0.3333333333333333, \"interactionType\": 1, \"questionType\": 1, \"questionId\": \"0.4_ZD\", \"learnToolsVersion\": \"0.3.4\", \"failureMessage\": \"\", \"exceptionClass\": \"\", \"trace\": \"\"}}, \"*\")"
      ],
      "text/plain": [
       "<IPython.core.display.Javascript object>"
      ]
     },
     "metadata": {},
     "output_type": "display_data"
    },
    {
     "data": {
      "text/markdown": [
       "<span style=\"color:#33cc33\">Correct:</span> \n",
       "\n",
       "The fact that this string was created using triple-quote syntax doesn't make any difference in terms of its content or length. This string is exactly the same as `'hey'`."
      ],
      "text/plain": [
       "Correct: \n",
       "\n",
       "The fact that this string was created using triple-quote syntax doesn't make any difference in terms of its content or length. This string is exactly the same as `'hey'`."
      ]
     },
     "metadata": {},
     "output_type": "display_data"
    }
   ],
   "source": [
    "d = \"\"\"hey\"\"\"\n",
    "length = 3\n",
    "q0.d.check()"
   ]
  },
  {
   "cell_type": "markdown",
   "id": "d86851b9",
   "metadata": {
    "papermill": {
     "duration": 0.008891,
     "end_time": "2024-04-10T09:05:53.848051",
     "exception": false,
     "start_time": "2024-04-10T09:05:53.839160",
     "status": "completed"
    },
    "tags": []
   },
   "source": [
    "# 0e."
   ]
  },
  {
   "cell_type": "code",
   "execution_count": 6,
   "id": "c16f58c9",
   "metadata": {
    "execution": {
     "iopub.execute_input": "2024-04-10T09:05:53.867961Z",
     "iopub.status.busy": "2024-04-10T09:05:53.867520Z",
     "iopub.status.idle": "2024-04-10T09:05:53.876896Z",
     "shell.execute_reply": "2024-04-10T09:05:53.875918Z"
    },
    "papermill": {
     "duration": 0.02268,
     "end_time": "2024-04-10T09:05:53.879739",
     "exception": false,
     "start_time": "2024-04-10T09:05:53.857059",
     "status": "completed"
    },
    "tags": []
   },
   "outputs": [
    {
     "data": {
      "application/javascript": [
       "parent.postMessage({\"jupyterEvent\": \"custom.exercise_interaction\", \"data\": {\"outcomeType\": 1, \"valueTowardsCompletion\": 0.3333333333333333, \"interactionType\": 1, \"questionType\": 1, \"questionId\": \"0.5_ZE\", \"learnToolsVersion\": \"0.3.4\", \"failureMessage\": \"\", \"exceptionClass\": \"\", \"trace\": \"\"}}, \"*\")"
      ],
      "text/plain": [
       "<IPython.core.display.Javascript object>"
      ]
     },
     "metadata": {},
     "output_type": "display_data"
    },
    {
     "data": {
      "text/markdown": [
       "<span style=\"color:#33cc33\">Correct:</span> \n",
       "\n",
       "The newline character is just a single character! (Even though we represent it to Python using a combination of two characters.)"
      ],
      "text/plain": [
       "Correct: \n",
       "\n",
       "The newline character is just a single character! (Even though we represent it to Python using a combination of two characters.)"
      ]
     },
     "metadata": {},
     "output_type": "display_data"
    }
   ],
   "source": [
    "e = '\\n'\n",
    "length = 1\n",
    "q0.e.check()"
   ]
  },
  {
   "cell_type": "markdown",
   "id": "9e7b6895",
   "metadata": {
    "papermill": {
     "duration": 0.009099,
     "end_time": "2024-04-10T09:05:53.898960",
     "exception": false,
     "start_time": "2024-04-10T09:05:53.889861",
     "status": "completed"
    },
    "tags": []
   },
   "source": [
    "# 1.\n",
    "\n",
    "There is a saying that \"Data scientists spend 80% of their time cleaning data, and 20% of their time complaining about cleaning data.\" Let's see if you can write a function to help clean US zip code data. Given a string, it should return whether or not that string represents a valid zip code. For our purposes, a valid zip code is any string consisting of exactly 5 digits.\n",
    "\n",
    "HINT: `str` has a method that will be useful here. Use `help(str)` to review a list of string methods."
   ]
  },
  {
   "cell_type": "code",
   "execution_count": 7,
   "id": "b6ea3b71",
   "metadata": {
    "execution": {
     "iopub.execute_input": "2024-04-10T09:05:53.919873Z",
     "iopub.status.busy": "2024-04-10T09:05:53.919424Z",
     "iopub.status.idle": "2024-04-10T09:05:53.930266Z",
     "shell.execute_reply": "2024-04-10T09:05:53.928929Z"
    },
    "papermill": {
     "duration": 0.024799,
     "end_time": "2024-04-10T09:05:53.933122",
     "exception": false,
     "start_time": "2024-04-10T09:05:53.908323",
     "status": "completed"
    },
    "tags": []
   },
   "outputs": [
    {
     "data": {
      "application/javascript": [
       "parent.postMessage({\"jupyterEvent\": \"custom.exercise_interaction\", \"data\": {\"outcomeType\": 1, \"valueTowardsCompletion\": 0.3333333333333333, \"interactionType\": 1, \"questionType\": 2, \"questionId\": \"1_ZipValidator\", \"learnToolsVersion\": \"0.3.4\", \"failureMessage\": \"\", \"exceptionClass\": \"\", \"trace\": \"\"}}, \"*\")"
      ],
      "text/plain": [
       "<IPython.core.display.Javascript object>"
      ]
     },
     "metadata": {},
     "output_type": "display_data"
    },
    {
     "data": {
      "text/markdown": [
       "<span style=\"color:#33cc33\">Correct</span>"
      ],
      "text/plain": [
       "Correct"
      ]
     },
     "metadata": {},
     "output_type": "display_data"
    }
   ],
   "source": [
    "def is_valid_zip(zip_code):\n",
    "    \"\"\"Returns whether the input string is a valid (5 digit) zip code\n",
    "    \"\"\"\n",
    "    if len(zip_code)==5 and zip_code.isdigit()==True:\n",
    "        return True\n",
    "    return False\n",
    "\n",
    "# Check your answer\n",
    "q1.check()"
   ]
  },
  {
   "cell_type": "code",
   "execution_count": 8,
   "id": "445b72b5",
   "metadata": {
    "execution": {
     "iopub.execute_input": "2024-04-10T09:05:53.954714Z",
     "iopub.status.busy": "2024-04-10T09:05:53.954304Z",
     "iopub.status.idle": "2024-04-10T09:05:53.963963Z",
     "shell.execute_reply": "2024-04-10T09:05:53.962410Z"
    },
    "papermill": {
     "duration": 0.024205,
     "end_time": "2024-04-10T09:05:53.967074",
     "exception": false,
     "start_time": "2024-04-10T09:05:53.942869",
     "status": "completed"
    },
    "tags": []
   },
   "outputs": [
    {
     "data": {
      "application/javascript": [
       "parent.postMessage({\"jupyterEvent\": \"custom.exercise_interaction\", \"data\": {\"interactionType\": 2, \"questionType\": 2, \"questionId\": \"1_ZipValidator\", \"learnToolsVersion\": \"0.3.4\", \"valueTowardsCompletion\": 0.0, \"failureMessage\": \"\", \"exceptionClass\": \"\", \"trace\": \"\", \"outcomeType\": 4}}, \"*\")"
      ],
      "text/plain": [
       "<IPython.core.display.Javascript object>"
      ]
     },
     "metadata": {},
     "output_type": "display_data"
    },
    {
     "data": {
      "text/markdown": [
       "<span style=\"color:#3366cc\">Hint:</span> Try looking up `help(str.isdigit)`"
      ],
      "text/plain": [
       "Hint: Try looking up `help(str.isdigit)`"
      ]
     },
     "metadata": {},
     "output_type": "display_data"
    }
   ],
   "source": [
    "q1.hint()\n",
    "#q1.solution()"
   ]
  },
  {
   "cell_type": "markdown",
   "id": "3ee1c6e1",
   "metadata": {
    "papermill": {
     "duration": 0.009883,
     "end_time": "2024-04-10T09:05:53.988594",
     "exception": false,
     "start_time": "2024-04-10T09:05:53.978711",
     "status": "completed"
    },
    "tags": []
   },
   "source": [
    "# 2.\n",
    "\n",
    "A researcher has gathered thousands of news articles. But she wants to focus her attention on articles including a specific word. Complete the function below to help her filter her list of articles.\n",
    "\n",
    "Your function should meet the following criteria:\n",
    "\n",
    "- Do not include documents where the keyword string shows up only as a part of a larger word. For example, if she were looking for the keyword “closed”, you would not include the string “enclosed.” \n",
    "- She does not want you to distinguish upper case from lower case letters. So the phrase “Closed the case.” would be included when the keyword is “closed”\n",
    "- Do not let periods or commas affect what is matched. “It is closed.” would be included when the keyword is “closed”. But you can assume there are no other types of punctuation."
   ]
  },
  {
   "cell_type": "code",
   "execution_count": 9,
   "id": "9d7c0ff3",
   "metadata": {
    "execution": {
     "iopub.execute_input": "2024-04-10T09:05:54.010194Z",
     "iopub.status.busy": "2024-04-10T09:05:54.009791Z",
     "iopub.status.idle": "2024-04-10T09:05:54.022332Z",
     "shell.execute_reply": "2024-04-10T09:05:54.021130Z"
    },
    "papermill": {
     "duration": 0.026272,
     "end_time": "2024-04-10T09:05:54.024812",
     "exception": false,
     "start_time": "2024-04-10T09:05:53.998540",
     "status": "completed"
    },
    "tags": []
   },
   "outputs": [
    {
     "data": {
      "application/javascript": [
       "parent.postMessage({\"jupyterEvent\": \"custom.exercise_interaction\", \"data\": {\"outcomeType\": 1, \"valueTowardsCompletion\": 0.3333333333333333, \"interactionType\": 1, \"questionType\": 2, \"questionId\": \"2_WordSearch\", \"learnToolsVersion\": \"0.3.4\", \"failureMessage\": \"\", \"exceptionClass\": \"\", \"trace\": \"\"}}, \"*\")"
      ],
      "text/plain": [
       "<IPython.core.display.Javascript object>"
      ]
     },
     "metadata": {},
     "output_type": "display_data"
    },
    {
     "data": {
      "text/markdown": [
       "<span style=\"color:#33cc33\">Correct</span>"
      ],
      "text/plain": [
       "Correct"
      ]
     },
     "metadata": {},
     "output_type": "display_data"
    }
   ],
   "source": [
    "def word_search(doc_list, keyword):\n",
    "    \"\"\"\n",
    "    Takes a list of documents (each document is a string) and a keyword. \n",
    "    Returns list of the index values into the original list for all documents \n",
    "    containing the keyword.\n",
    "\n",
    "    Example:\n",
    "    doc_list = [\"The Learn Python Challenge Casino.\", \"They bought a car\", \"Casinoville\"]\n",
    "    >>> word_search(doc_list, 'casino')\n",
    "    >>> [0]\n",
    "    \"\"\"\n",
    "    index = []\n",
    "    keyword = keyword.lower()\n",
    "    count = 0\n",
    "    for doc in doc_list:\n",
    "        doc = doc.lower()\n",
    "        doc = doc.replace(\".\",\"\")\n",
    "        doc = doc.replace(\",\",\"\")\n",
    "        doc_word = doc.split()\n",
    "        if keyword in doc_word:\n",
    "            index.append(count)\n",
    "        count +=1\n",
    "    return index\n",
    "\n",
    "    \n",
    "\n",
    "# Check your answer\n",
    "q2.check()"
   ]
  },
  {
   "cell_type": "code",
   "execution_count": 10,
   "id": "a126b0db",
   "metadata": {
    "execution": {
     "iopub.execute_input": "2024-04-10T09:05:54.046984Z",
     "iopub.status.busy": "2024-04-10T09:05:54.046572Z",
     "iopub.status.idle": "2024-04-10T09:05:54.056773Z",
     "shell.execute_reply": "2024-04-10T09:05:54.055380Z"
    },
    "papermill": {
     "duration": 0.024585,
     "end_time": "2024-04-10T09:05:54.059585",
     "exception": false,
     "start_time": "2024-04-10T09:05:54.035000",
     "status": "completed"
    },
    "tags": []
   },
   "outputs": [
    {
     "data": {
      "application/javascript": [
       "parent.postMessage({\"jupyterEvent\": \"custom.exercise_interaction\", \"data\": {\"interactionType\": 2, \"questionType\": 2, \"questionId\": \"2_WordSearch\", \"learnToolsVersion\": \"0.3.4\", \"valueTowardsCompletion\": 0.0, \"failureMessage\": \"\", \"exceptionClass\": \"\", \"trace\": \"\", \"outcomeType\": 4}}, \"*\")"
      ],
      "text/plain": [
       "<IPython.core.display.Javascript object>"
      ]
     },
     "metadata": {},
     "output_type": "display_data"
    },
    {
     "data": {
      "text/markdown": [
       "<span style=\"color:#3366cc\">Hint:</span> Some methods that may be useful here: `str.split()`, `str.strip()`, `str.lower()`."
      ],
      "text/plain": [
       "Hint: Some methods that may be useful here: `str.split()`, `str.strip()`, `str.lower()`."
      ]
     },
     "metadata": {},
     "output_type": "display_data"
    }
   ],
   "source": [
    "q2.hint()\n",
    "\n",
    "#q2.solution()"
   ]
  },
  {
   "cell_type": "markdown",
   "id": "54340edc",
   "metadata": {
    "papermill": {
     "duration": 0.01145,
     "end_time": "2024-04-10T09:05:54.081904",
     "exception": false,
     "start_time": "2024-04-10T09:05:54.070454",
     "status": "completed"
    },
    "tags": []
   },
   "source": [
    "# 3.\n",
    "\n",
    "Now the researcher wants to supply multiple keywords to search for. Complete the function below to help her.\n",
    "\n",
    "(You're encouraged to use the `word_search` function you just wrote when implementing this function. Reusing code in this way makes your programs more robust and readable - and it saves typing!)"
   ]
  },
  {
   "cell_type": "code",
   "execution_count": 11,
   "id": "31d30a0b",
   "metadata": {
    "execution": {
     "iopub.execute_input": "2024-04-10T09:05:54.106959Z",
     "iopub.status.busy": "2024-04-10T09:05:54.106547Z",
     "iopub.status.idle": "2024-04-10T09:05:54.117956Z",
     "shell.execute_reply": "2024-04-10T09:05:54.117023Z"
    },
    "papermill": {
     "duration": 0.026718,
     "end_time": "2024-04-10T09:05:54.120369",
     "exception": false,
     "start_time": "2024-04-10T09:05:54.093651",
     "status": "completed"
    },
    "tags": []
   },
   "outputs": [
    {
     "data": {
      "application/javascript": [
       "parent.postMessage({\"jupyterEvent\": \"custom.exercise_interaction\", \"data\": {\"outcomeType\": 1, \"valueTowardsCompletion\": 0.3333333333333333, \"interactionType\": 1, \"questionType\": 2, \"questionId\": \"3_MultiWordSearch\", \"learnToolsVersion\": \"0.3.4\", \"failureMessage\": \"\", \"exceptionClass\": \"\", \"trace\": \"\"}}, \"*\")"
      ],
      "text/plain": [
       "<IPython.core.display.Javascript object>"
      ]
     },
     "metadata": {},
     "output_type": "display_data"
    },
    {
     "data": {
      "text/markdown": [
       "<span style=\"color:#33cc33\">Correct</span>"
      ],
      "text/plain": [
       "Correct"
      ]
     },
     "metadata": {},
     "output_type": "display_data"
    }
   ],
   "source": [
    "def multi_word_search(doc_list, keywords):\n",
    "    \"\"\"\n",
    "    Takes list of documents (each document is a string) and a list of keywords.  \n",
    "    Returns a dictionary where each key is a keyword, and the value is a list of indices\n",
    "    (from doc_list) of the documents containing that keyword\n",
    "\n",
    "    >>> doc_list = [\"The Learn Python Challenge Casino.\", \"They bought a car and a casino\", \"Casinoville\"]\n",
    "    >>> keywords = ['casino', 'they']\n",
    "    >>> multi_word_search(doc_list, keywords)\n",
    "    {'casino': [0, 1], 'they': [1]}\n",
    "    \"\"\"\n",
    "    result = dict()\n",
    "    for keyword in keywords:\n",
    "        keyword_indices =word_search(doc_list, keyword)\n",
    "        result[keyword]=keyword_indices\n",
    "    return result\n",
    "\n",
    "# Check your answer\n",
    "q3.check()"
   ]
  },
  {
   "cell_type": "code",
   "execution_count": 12,
   "id": "a19e733c",
   "metadata": {
    "execution": {
     "iopub.execute_input": "2024-04-10T09:05:54.145127Z",
     "iopub.status.busy": "2024-04-10T09:05:54.144721Z",
     "iopub.status.idle": "2024-04-10T09:05:54.150048Z",
     "shell.execute_reply": "2024-04-10T09:05:54.148660Z"
    },
    "papermill": {
     "duration": 0.020979,
     "end_time": "2024-04-10T09:05:54.152781",
     "exception": false,
     "start_time": "2024-04-10T09:05:54.131802",
     "status": "completed"
    },
    "tags": []
   },
   "outputs": [],
   "source": [
    "#q3.solution()"
   ]
  },
  {
   "cell_type": "markdown",
   "id": "d5afe0f0",
   "metadata": {
    "papermill": {
     "duration": 0.011865,
     "end_time": "2024-04-10T09:05:54.175849",
     "exception": false,
     "start_time": "2024-04-10T09:05:54.163984",
     "status": "completed"
    },
    "tags": []
   },
   "source": [
    "# Keep Going\n",
    "\n",
    "You've learned a lot. But even the best programmers rely heavily on \"libraries\" of code from other programmers. You'll learn about that in **[the last lesson](https://www.kaggle.com/colinmorris/working-with-external-libraries)**.\n"
   ]
  },
  {
   "cell_type": "markdown",
   "id": "4d095f16",
   "metadata": {
    "papermill": {
     "duration": 0.011613,
     "end_time": "2024-04-10T09:05:54.198578",
     "exception": false,
     "start_time": "2024-04-10T09:05:54.186965",
     "status": "completed"
    },
    "tags": []
   },
   "source": [
    "---\n",
    "\n",
    "\n",
    "\n",
    "\n",
    "*Have questions or comments? Visit the [course discussion forum](https://www.kaggle.com/learn/python/discussion) to chat with other learners.*"
   ]
  }
 ],
 "metadata": {
  "kaggle": {
   "accelerator": "none",
   "dataSources": [],
   "isGpuEnabled": false,
   "isInternetEnabled": false,
   "language": "python",
   "sourceType": "notebook"
  },
  "kernelspec": {
   "display_name": "Python 3",
   "language": "python",
   "name": "python3"
  },
  "language_info": {
   "codemirror_mode": {
    "name": "ipython",
    "version": 3
   },
   "file_extension": ".py",
   "mimetype": "text/x-python",
   "name": "python",
   "nbconvert_exporter": "python",
   "pygments_lexer": "ipython3",
   "version": "3.10.13"
  },
  "learntools_metadata": {
   "lesson_index": 5,
   "type": "exercise"
  },
  "papermill": {
   "default_parameters": {},
   "duration": 5.692008,
   "end_time": "2024-04-10T09:05:54.731386",
   "environment_variables": {},
   "exception": null,
   "input_path": "__notebook__.ipynb",
   "output_path": "__notebook__.ipynb",
   "parameters": {},
   "start_time": "2024-04-10T09:05:49.039378",
   "version": "2.5.0"
  }
 },
 "nbformat": 4,
 "nbformat_minor": 5
}
