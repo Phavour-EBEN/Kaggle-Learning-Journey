{
 "cells": [
  {
   "cell_type": "markdown",
   "id": "197acf73",
   "metadata": {
    "papermill": {
     "duration": 0.006717,
     "end_time": "2024-03-19T16:01:30.596030",
     "exception": false,
     "start_time": "2024-03-19T16:01:30.589313",
     "status": "completed"
    },
    "tags": []
   },
   "source": [
    "**This notebook is an exercise in the [Python](https://www.kaggle.com/learn/python) course.  You can reference the tutorial at [this link](https://www.kaggle.com/colinmorris/functions-and-getting-help).**\n",
    "\n",
    "---\n"
   ]
  },
  {
   "cell_type": "markdown",
   "id": "4834fd23",
   "metadata": {
    "papermill": {
     "duration": 0.00593,
     "end_time": "2024-03-19T16:01:30.608364",
     "exception": false,
     "start_time": "2024-03-19T16:01:30.602434",
     "status": "completed"
    },
    "tags": []
   },
   "source": [
    "Functions are powerful. Try writing some yourself.\n",
    "\n",
    "As before, don't forget to run the setup code below before jumping into question 1."
   ]
  },
  {
   "cell_type": "code",
   "execution_count": 1,
   "id": "b6bd2b87",
   "metadata": {
    "_kg_hide-input": true,
    "_kg_hide-output": true,
    "execution": {
     "iopub.execute_input": "2024-03-19T16:01:30.622923Z",
     "iopub.status.busy": "2024-03-19T16:01:30.622135Z",
     "iopub.status.idle": "2024-03-19T16:01:31.491812Z",
     "shell.execute_reply": "2024-03-19T16:01:31.490733Z"
    },
    "papermill": {
     "duration": 0.879904,
     "end_time": "2024-03-19T16:01:31.494413",
     "exception": false,
     "start_time": "2024-03-19T16:01:30.614509",
     "status": "completed"
    },
    "tags": []
   },
   "outputs": [
    {
     "name": "stdout",
     "output_type": "stream",
     "text": [
      "Setup complete.\n"
     ]
    }
   ],
   "source": [
    "# SETUP. You don't need to worry for now about what this code does or how it works.\n",
    "from learntools.core import binder; binder.bind(globals())\n",
    "from learntools.python.ex2 import *\n",
    "print('Setup complete.')"
   ]
  },
  {
   "cell_type": "markdown",
   "id": "a35ee54d",
   "metadata": {
    "papermill": {
     "duration": 0.00604,
     "end_time": "2024-03-19T16:01:31.506903",
     "exception": false,
     "start_time": "2024-03-19T16:01:31.500863",
     "status": "completed"
    },
    "tags": []
   },
   "source": [
    "# 1.\n",
    "\n",
    "Complete the body of the following function according to its docstring.\n",
    "\n",
    "HINT: Python has a built-in function `round`."
   ]
  },
  {
   "cell_type": "code",
   "execution_count": 2,
   "id": "56f6dc91",
   "metadata": {
    "execution": {
     "iopub.execute_input": "2024-03-19T16:01:31.521620Z",
     "iopub.status.busy": "2024-03-19T16:01:31.520638Z",
     "iopub.status.idle": "2024-03-19T16:01:31.533003Z",
     "shell.execute_reply": "2024-03-19T16:01:31.531983Z"
    },
    "papermill": {
     "duration": 0.022324,
     "end_time": "2024-03-19T16:01:31.535353",
     "exception": false,
     "start_time": "2024-03-19T16:01:31.513029",
     "status": "completed"
    },
    "tags": []
   },
   "outputs": [
    {
     "name": "stdout",
     "output_type": "stream",
     "text": [
      "3.14\n"
     ]
    },
    {
     "data": {
      "application/javascript": [
       "parent.postMessage({\"jupyterEvent\": \"custom.exercise_interaction\", \"data\": {\"outcomeType\": 1, \"valueTowardsCompletion\": 0.16666666666666666, \"interactionType\": 1, \"questionType\": 2, \"questionId\": \"1_RoundFunctionProblem\", \"learnToolsVersion\": \"0.3.4\", \"failureMessage\": \"\", \"exceptionClass\": \"\", \"trace\": \"\"}}, \"*\")"
      ],
      "text/plain": [
       "<IPython.core.display.Javascript object>"
      ]
     },
     "metadata": {},
     "output_type": "display_data"
    },
    {
     "data": {
      "text/markdown": [
       "<span style=\"color:#33cc33\">Correct</span>"
      ],
      "text/plain": [
       "Correct"
      ]
     },
     "metadata": {},
     "output_type": "display_data"
    }
   ],
   "source": [
    "def round_to_two_places(num):\n",
    "    \"\"\"Return the given number rounded to two decimal places. \n",
    "    \n",
    "    >>> round_to_two_places(3.14159)\n",
    "    3.14\n",
    "    \"\"\"\n",
    "    # Replace this body with your own code.\n",
    "    # (\"pass\" is a keyword that does literally nothing. We used it as a placeholder\n",
    "    # because after we begin a code block, Python requires at least one line of code)\n",
    "    return round(num,2)\n",
    "    \n",
    "\n",
    "# Check your answer\n",
    "print(round_to_two_places(3.14159))\n",
    "q1.check()"
   ]
  },
  {
   "cell_type": "code",
   "execution_count": 3,
   "id": "016102cb",
   "metadata": {
    "execution": {
     "iopub.execute_input": "2024-03-19T16:01:31.550413Z",
     "iopub.status.busy": "2024-03-19T16:01:31.550052Z",
     "iopub.status.idle": "2024-03-19T16:01:31.554315Z",
     "shell.execute_reply": "2024-03-19T16:01:31.553336Z"
    },
    "papermill": {
     "duration": 0.014653,
     "end_time": "2024-03-19T16:01:31.556771",
     "exception": false,
     "start_time": "2024-03-19T16:01:31.542118",
     "status": "completed"
    },
    "tags": []
   },
   "outputs": [],
   "source": [
    "# Uncomment the following for a hint\n",
    "#q1.hint()\n",
    "# Or uncomment the following to peek at the solution\n",
    "#q1.solution()"
   ]
  },
  {
   "cell_type": "markdown",
   "id": "4e94940c",
   "metadata": {
    "papermill": {
     "duration": 0.006494,
     "end_time": "2024-03-19T16:01:31.570067",
     "exception": false,
     "start_time": "2024-03-19T16:01:31.563573",
     "status": "completed"
    },
    "tags": []
   },
   "source": [
    "# 2.\n",
    "The help for `round` says that `ndigits` (the second argument) may be negative.\n",
    "What do you think will happen when it is? Try some examples in the following cell."
   ]
  },
  {
   "cell_type": "code",
   "execution_count": 4,
   "id": "3bbd46e8",
   "metadata": {
    "execution": {
     "iopub.execute_input": "2024-03-19T16:01:31.585267Z",
     "iopub.status.busy": "2024-03-19T16:01:31.584896Z",
     "iopub.status.idle": "2024-03-19T16:01:31.590368Z",
     "shell.execute_reply": "2024-03-19T16:01:31.589138Z"
    },
    "papermill": {
     "duration": 0.016104,
     "end_time": "2024-03-19T16:01:31.592892",
     "exception": false,
     "start_time": "2024-03-19T16:01:31.576788",
     "status": "completed"
    },
    "tags": []
   },
   "outputs": [
    {
     "name": "stdout",
     "output_type": "stream",
     "text": [
      "316000\n"
     ]
    }
   ],
   "source": [
    "# Put your test code here\n",
    "print(round(315601,-3))\n",
    "# help(round(3.14159,-1))"
   ]
  },
  {
   "cell_type": "markdown",
   "id": "72fa26a4",
   "metadata": {
    "papermill": {
     "duration": 0.006556,
     "end_time": "2024-03-19T16:01:31.606326",
     "exception": false,
     "start_time": "2024-03-19T16:01:31.599770",
     "status": "completed"
    },
    "tags": []
   },
   "source": [
    "Can you think of a case where this would be useful?  Once you're ready, run the code cell below to see the answer and to receive credit for completing the problem."
   ]
  },
  {
   "cell_type": "code",
   "execution_count": 5,
   "id": "fddf0233",
   "metadata": {
    "execution": {
     "iopub.execute_input": "2024-03-19T16:01:31.621491Z",
     "iopub.status.busy": "2024-03-19T16:01:31.621137Z",
     "iopub.status.idle": "2024-03-19T16:01:31.630116Z",
     "shell.execute_reply": "2024-03-19T16:01:31.629157Z"
    },
    "papermill": {
     "duration": 0.019132,
     "end_time": "2024-03-19T16:01:31.632190",
     "exception": false,
     "start_time": "2024-03-19T16:01:31.613058",
     "status": "completed"
    },
    "tags": []
   },
   "outputs": [
    {
     "data": {
      "application/javascript": [
       "parent.postMessage({\"jupyterEvent\": \"custom.exercise_interaction\", \"data\": {\"interactionType\": 3, \"questionType\": 4, \"questionId\": \"2_RoundNdigitsProblem\", \"learnToolsVersion\": \"0.3.4\", \"valueTowardsCompletion\": 0.0, \"failureMessage\": \"\", \"exceptionClass\": \"\", \"trace\": \"\", \"outcomeType\": 4}}, \"*\")"
      ],
      "text/plain": [
       "<IPython.core.display.Javascript object>"
      ]
     },
     "metadata": {},
     "output_type": "display_data"
    },
    {
     "data": {
      "text/markdown": [
       "<span style=\"color:#33cc99\">Solution:</span> As you've seen, `ndigits=-1` rounds to the nearest 10, `ndigits=-2` rounds to the nearest 100 and so on. Where might this be useful? Suppose we're dealing with large numbers:\n",
       "\n",
       "> The area of Finland is 338,424 km²  \n",
       "> The area of Greenland is 2,166,086 km²\n",
       "\n",
       "We probably don't care whether it's really 338,424, or 338,425, or 338,177. All those digits of accuracy are just distracting. We can chop them off by calling `round()` with `ndigits=-3`:\n",
       "\n",
       "> The area of Finland is 338,000 km²  \n",
       "> The area of Greenland is 2,166,000 km²\n",
       "\n",
       "(We'll talk about how we would get the commas later when we talk about string formatting :))\n"
      ],
      "text/plain": [
       "Solution: As you've seen, `ndigits=-1` rounds to the nearest 10, `ndigits=-2` rounds to the nearest 100 and so on. Where might this be useful? Suppose we're dealing with large numbers:\n",
       "\n",
       "> The area of Finland is 338,424 km²  \n",
       "> The area of Greenland is 2,166,086 km²\n",
       "\n",
       "We probably don't care whether it's really 338,424, or 338,425, or 338,177. All those digits of accuracy are just distracting. We can chop them off by calling `round()` with `ndigits=-3`:\n",
       "\n",
       "> The area of Finland is 338,000 km²  \n",
       "> The area of Greenland is 2,166,000 km²\n",
       "\n",
       "(We'll talk about how we would get the commas later when we talk about string formatting :))"
      ]
     },
     "metadata": {},
     "output_type": "display_data"
    }
   ],
   "source": [
    "# Check your answer (Run this code cell to receive credit!)\n",
    "q2.solution()"
   ]
  },
  {
   "cell_type": "markdown",
   "id": "dde96e26",
   "metadata": {
    "papermill": {
     "duration": 0.007045,
     "end_time": "2024-03-19T16:01:31.646514",
     "exception": false,
     "start_time": "2024-03-19T16:01:31.639469",
     "status": "completed"
    },
    "tags": []
   },
   "source": [
    "# 3.\n",
    "\n",
    "In the previous exercise, the candy-sharing friends Alice, Bob and Carol tried to split candies evenly. For the sake of their friendship, any candies left over would be smashed. For example, if they collectively bring home 91 candies, they'll take 30 each and smash 1.\n",
    "\n",
    "Below is a simple function that will calculate the number of candies to smash for *any* number of total candies.\n",
    "\n",
    "Modify it so that it optionally takes a second argument representing the number of friends the candies are being split between. If no second argument is provided, it should assume 3 friends, as before.\n",
    "\n",
    "Update the docstring to reflect this new behaviour."
   ]
  },
  {
   "cell_type": "code",
   "execution_count": 6,
   "id": "50b20468",
   "metadata": {
    "execution": {
     "iopub.execute_input": "2024-03-19T16:01:31.662874Z",
     "iopub.status.busy": "2024-03-19T16:01:31.662448Z",
     "iopub.status.idle": "2024-03-19T16:01:31.671073Z",
     "shell.execute_reply": "2024-03-19T16:01:31.670332Z"
    },
    "papermill": {
     "duration": 0.019581,
     "end_time": "2024-03-19T16:01:31.673291",
     "exception": false,
     "start_time": "2024-03-19T16:01:31.653710",
     "status": "completed"
    },
    "tags": []
   },
   "outputs": [
    {
     "data": {
      "application/javascript": [
       "parent.postMessage({\"jupyterEvent\": \"custom.exercise_interaction\", \"data\": {\"outcomeType\": 1, \"valueTowardsCompletion\": 0.16666666666666666, \"interactionType\": 1, \"questionType\": 2, \"questionId\": \"3_CandySmashingFunctionProblem\", \"learnToolsVersion\": \"0.3.4\", \"failureMessage\": \"\", \"exceptionClass\": \"\", \"trace\": \"\"}}, \"*\")"
      ],
      "text/plain": [
       "<IPython.core.display.Javascript object>"
      ]
     },
     "metadata": {},
     "output_type": "display_data"
    },
    {
     "data": {
      "text/markdown": [
       "<span style=\"color:#33cc33\">Correct</span>"
      ],
      "text/plain": [
       "Correct"
      ]
     },
     "metadata": {},
     "output_type": "display_data"
    }
   ],
   "source": [
    "def to_smash(total_candies,number_of_friend=3):\n",
    "    \"\"\"Return the number of leftover candies that must be smashed after distributing\n",
    "    the given number of candies evenly between 3 friends.\n",
    "    \n",
    "    >>> to_smash(91)\n",
    "    1\n",
    "    \"\"\"\n",
    "    return total_candies % number_of_friend\n",
    "\n",
    "# Check your answer\n",
    "# print(to_smash(91,3))\n",
    "q3.check()"
   ]
  },
  {
   "cell_type": "code",
   "execution_count": 7,
   "id": "96d51d43",
   "metadata": {
    "execution": {
     "iopub.execute_input": "2024-03-19T16:01:31.690340Z",
     "iopub.status.busy": "2024-03-19T16:01:31.689976Z",
     "iopub.status.idle": "2024-03-19T16:01:31.698282Z",
     "shell.execute_reply": "2024-03-19T16:01:31.697293Z"
    },
    "papermill": {
     "duration": 0.019749,
     "end_time": "2024-03-19T16:01:31.700637",
     "exception": false,
     "start_time": "2024-03-19T16:01:31.680888",
     "status": "completed"
    },
    "tags": []
   },
   "outputs": [
    {
     "data": {
      "application/javascript": [
       "parent.postMessage({\"jupyterEvent\": \"custom.exercise_interaction\", \"data\": {\"interactionType\": 2, \"questionType\": 2, \"questionId\": \"3_CandySmashingFunctionProblem\", \"learnToolsVersion\": \"0.3.4\", \"valueTowardsCompletion\": 0.0, \"failureMessage\": \"\", \"exceptionClass\": \"\", \"trace\": \"\", \"outcomeType\": 4}}, \"*\")"
      ],
      "text/plain": [
       "<IPython.core.display.Javascript object>"
      ]
     },
     "metadata": {},
     "output_type": "display_data"
    },
    {
     "data": {
      "text/markdown": [
       "<span style=\"color:#3366cc\">Hint:</span> Refer to the section of the last tutorial notebook where we talked about default arguments"
      ],
      "text/plain": [
       "Hint: Refer to the section of the last tutorial notebook where we talked about default arguments"
      ]
     },
     "metadata": {},
     "output_type": "display_data"
    }
   ],
   "source": [
    "q3.hint()"
   ]
  },
  {
   "cell_type": "code",
   "execution_count": 8,
   "id": "a537da8d",
   "metadata": {
    "execution": {
     "iopub.execute_input": "2024-03-19T16:01:31.717826Z",
     "iopub.status.busy": "2024-03-19T16:01:31.717471Z",
     "iopub.status.idle": "2024-03-19T16:01:31.725709Z",
     "shell.execute_reply": "2024-03-19T16:01:31.724700Z"
    },
    "papermill": {
     "duration": 0.019606,
     "end_time": "2024-03-19T16:01:31.728035",
     "exception": false,
     "start_time": "2024-03-19T16:01:31.708429",
     "status": "completed"
    },
    "tags": []
   },
   "outputs": [
    {
     "data": {
      "application/javascript": [
       "parent.postMessage({\"jupyterEvent\": \"custom.exercise_interaction\", \"data\": {\"interactionType\": 3, \"questionType\": 2, \"questionId\": \"3_CandySmashingFunctionProblem\", \"learnToolsVersion\": \"0.3.4\", \"valueTowardsCompletion\": 0.0, \"failureMessage\": \"\", \"exceptionClass\": \"\", \"trace\": \"\", \"outcomeType\": 4}}, \"*\")"
      ],
      "text/plain": [
       "<IPython.core.display.Javascript object>"
      ]
     },
     "metadata": {},
     "output_type": "display_data"
    },
    {
     "data": {
      "text/markdown": [
       "<span style=\"color:#33cc99\">Solution:</span> \n",
       "```python\n",
       "def to_smash(total_candies, n_friends=3):\n",
       "    return total_candies % n_friends\n",
       "```"
      ],
      "text/plain": [
       "Solution: \n",
       "```python\n",
       "def to_smash(total_candies, n_friends=3):\n",
       "    return total_candies % n_friends\n",
       "```"
      ]
     },
     "metadata": {},
     "output_type": "display_data"
    }
   ],
   "source": [
    "q3.solution()"
   ]
  },
  {
   "cell_type": "markdown",
   "id": "600d58b9",
   "metadata": {
    "papermill": {
     "duration": 0.008549,
     "end_time": "2024-03-19T16:01:31.745660",
     "exception": false,
     "start_time": "2024-03-19T16:01:31.737111",
     "status": "completed"
    },
    "tags": []
   },
   "source": [
    "# 4. (Optional)\n",
    "\n",
    "It may not be fun, but reading and understanding error messages will be an important part of your Python career.\n",
    "\n",
    "Each code cell below contains some commented buggy code. For each cell...\n",
    "\n",
    "1. Read the code and predict what you think will happen when it's run.\n",
    "2. Then uncomment the code and run it to see what happens. (**Tip**: In the kernel editor, you can highlight several lines and press `ctrl`+`/` to toggle commenting.)\n",
    "3. Fix the code (so that it accomplishes its intended purpose without throwing an exception)\n",
    "\n",
    "<!-- TODO: should this be autochecked? Delta is probably pretty small. -->"
   ]
  },
  {
   "cell_type": "code",
   "execution_count": 9,
   "id": "55c44439",
   "metadata": {
    "execution": {
     "iopub.execute_input": "2024-03-19T16:01:31.765062Z",
     "iopub.status.busy": "2024-03-19T16:01:31.764690Z",
     "iopub.status.idle": "2024-03-19T16:01:31.772050Z",
     "shell.execute_reply": "2024-03-19T16:01:31.770268Z"
    },
    "papermill": {
     "duration": 0.019269,
     "end_time": "2024-03-19T16:01:31.774049",
     "exception": false,
     "start_time": "2024-03-19T16:01:31.754780",
     "status": "completed"
    },
    "tags": []
   },
   "outputs": [
    {
     "data": {
      "text/plain": [
       "10"
      ]
     },
     "execution_count": 9,
     "metadata": {},
     "output_type": "execute_result"
    }
   ],
   "source": [
    "round_to_two_places(round(9.9999))"
   ]
  },
  {
   "cell_type": "code",
   "execution_count": 10,
   "id": "4fb8c57c",
   "metadata": {
    "execution": {
     "iopub.execute_input": "2024-03-19T16:01:31.792765Z",
     "iopub.status.busy": "2024-03-19T16:01:31.792133Z",
     "iopub.status.idle": "2024-03-19T16:01:31.796628Z",
     "shell.execute_reply": "2024-03-19T16:01:31.795866Z"
    },
    "papermill": {
     "duration": 0.016293,
     "end_time": "2024-03-19T16:01:31.798747",
     "exception": false,
     "start_time": "2024-03-19T16:01:31.782454",
     "status": "completed"
    },
    "tags": []
   },
   "outputs": [],
   "source": [
    "x = -10\n",
    "y = 5\n",
    "# # Which of the two variables above has the smallest absolute value?\n",
    "smallest_abs = min(abs(x), y)\n",
    "\n"
   ]
  },
  {
   "cell_type": "code",
   "execution_count": 11,
   "id": "451bad41",
   "metadata": {
    "execution": {
     "iopub.execute_input": "2024-03-19T16:01:31.817680Z",
     "iopub.status.busy": "2024-03-19T16:01:31.817077Z",
     "iopub.status.idle": "2024-03-19T16:01:31.822852Z",
     "shell.execute_reply": "2024-03-19T16:01:31.821825Z"
    },
    "papermill": {
     "duration": 0.017615,
     "end_time": "2024-03-19T16:01:31.825123",
     "exception": false,
     "start_time": "2024-03-19T16:01:31.807508",
     "status": "completed"
    },
    "tags": []
   },
   "outputs": [
    {
     "name": "stdout",
     "output_type": "stream",
     "text": [
      "5\n"
     ]
    }
   ],
   "source": [
    "def f(x):\n",
    "    y = abs(x)\n",
    "    return y\n",
    "\n",
    "print(f(5))"
   ]
  },
  {
   "cell_type": "markdown",
   "id": "e4f6e5da",
   "metadata": {
    "papermill": {
     "duration": 0.008242,
     "end_time": "2024-03-19T16:01:31.842214",
     "exception": false,
     "start_time": "2024-03-19T16:01:31.833972",
     "status": "completed"
    },
    "tags": []
   },
   "source": [
    "# Keep Going\n",
    "\n",
    "Nice job with the code. Next up, you'll learn about *conditionals*, which you'll need to **[write interesting programs](https://www.kaggle.com/colinmorris/booleans-and-conditionals)**. "
   ]
  },
  {
   "cell_type": "markdown",
   "id": "bc986aa6",
   "metadata": {
    "papermill": {
     "duration": 0.008164,
     "end_time": "2024-03-19T16:01:31.859019",
     "exception": false,
     "start_time": "2024-03-19T16:01:31.850855",
     "status": "completed"
    },
    "tags": []
   },
   "source": [
    "---\n",
    "\n",
    "\n",
    "\n",
    "\n",
    "*Have questions or comments? Visit the [course discussion forum](https://www.kaggle.com/learn/python/discussion) to chat with other learners.*"
   ]
  }
 ],
 "metadata": {
  "kaggle": {
   "accelerator": "none",
   "dataSources": [],
   "isGpuEnabled": false,
   "isInternetEnabled": false,
   "language": "python",
   "sourceType": "notebook"
  },
  "kernelspec": {
   "display_name": "Python 3",
   "language": "python",
   "name": "python3"
  },
  "language_info": {
   "codemirror_mode": {
    "name": "ipython",
    "version": 3
   },
   "file_extension": ".py",
   "mimetype": "text/x-python",
   "name": "python",
   "nbconvert_exporter": "python",
   "pygments_lexer": "ipython3",
   "version": "3.10.13"
  },
  "learntools_metadata": {
   "lesson_index": 1,
   "type": "exercise"
  },
  "papermill": {
   "default_parameters": {},
   "duration": 4.536397,
   "end_time": "2024-03-19T16:01:32.287586",
   "environment_variables": {},
   "exception": null,
   "input_path": "__notebook__.ipynb",
   "output_path": "__notebook__.ipynb",
   "parameters": {},
   "start_time": "2024-03-19T16:01:27.751189",
   "version": "2.5.0"
  }
 },
 "nbformat": 4,
 "nbformat_minor": 5
}
